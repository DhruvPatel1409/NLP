{
  "nbformat": 4,
  "nbformat_minor": 0,
  "metadata": {
    "colab": {
      "provenance": [],
      "gpuType": "V28"
    },
    "kernelspec": {
      "name": "python3",
      "display_name": "Python 3"
    },
    "language_info": {
      "name": "python"
    },
    "accelerator": "TPU"
  },
  "cells": [
    {
      "cell_type": "code",
      "source": [
        "import gensim.downloader as api\n",
        "from gensim.models import KeyedVectors,Word2Vec"
      ],
      "metadata": {
        "id": "ZAjQfc-4fVEX"
      },
      "execution_count": 1,
      "outputs": []
    },
    {
      "cell_type": "code",
      "source": [
        "model = api.load('word2vec-google-news-300')"
      ],
      "metadata": {
        "id": "nkNHQHiuhZDv",
        "colab": {
          "base_uri": "https://localhost:8080/"
        },
        "outputId": "e0a11e2b-9bed-4958-84ba-599f0996afa7"
      },
      "execution_count": 2,
      "outputs": [
        {
          "output_type": "stream",
          "name": "stdout",
          "text": [
            "[==================================================] 100.0% 1662.8/1662.8MB downloaded\n"
          ]
        }
      ]
    },
    {
      "cell_type": "code",
      "source": [
        "model.save('/content/GoogleNews-vectors-negative300.bin')"
      ],
      "metadata": {
        "id": "vhDPwt5uhe8n"
      },
      "execution_count": 3,
      "outputs": []
    },
    {
      "cell_type": "code",
      "source": [
        "model_path = '/content/GoogleNews-vectors-negative300.bin'"
      ],
      "metadata": {
        "id": "u0WfOjmrhg64"
      },
      "execution_count": 4,
      "outputs": []
    },
    {
      "cell_type": "code",
      "source": [
        "model = KeyedVectors.load('/content/GoogleNews-vectors-negative300.bin')"
      ],
      "metadata": {
        "id": "0_FNEoCCiGcu"
      },
      "execution_count": 5,
      "outputs": []
    },
    {
      "cell_type": "code",
      "source": [
        "model['man'].shape"
      ],
      "metadata": {
        "id": "_AHNOfnTjnze",
        "colab": {
          "base_uri": "https://localhost:8080/"
        },
        "outputId": "742fc948-3851-49c7-9b05-62409e0795fd"
      },
      "execution_count": 6,
      "outputs": [
        {
          "output_type": "execute_result",
          "data": {
            "text/plain": [
              "(300,)"
            ]
          },
          "metadata": {},
          "execution_count": 6
        }
      ]
    },
    {
      "cell_type": "code",
      "source": [
        "model['man']"
      ],
      "metadata": {
        "id": "S1QesmHwkUTa",
        "colab": {
          "base_uri": "https://localhost:8080/"
        },
        "outputId": "2e76ceca-c506-4df2-c70e-4bcef29c53eb"
      },
      "execution_count": 7,
      "outputs": [
        {
          "output_type": "execute_result",
          "data": {
            "text/plain": [
              "array([ 0.32617188,  0.13085938,  0.03466797, -0.08300781,  0.08984375,\n",
              "       -0.04125977, -0.19824219,  0.00689697,  0.14355469,  0.0019455 ,\n",
              "        0.02880859, -0.25      , -0.08398438, -0.15136719, -0.10205078,\n",
              "        0.04077148, -0.09765625,  0.05932617,  0.02978516, -0.10058594,\n",
              "       -0.13085938,  0.001297  ,  0.02612305, -0.27148438,  0.06396484,\n",
              "       -0.19140625, -0.078125  ,  0.25976562,  0.375     , -0.04541016,\n",
              "        0.16210938,  0.13671875, -0.06396484, -0.02062988, -0.09667969,\n",
              "        0.25390625,  0.24804688, -0.12695312,  0.07177734,  0.3203125 ,\n",
              "        0.03149414, -0.03857422,  0.21191406, -0.00811768,  0.22265625,\n",
              "       -0.13476562, -0.07617188,  0.01049805, -0.05175781,  0.03808594,\n",
              "       -0.13378906,  0.125     ,  0.0559082 , -0.18261719,  0.08154297,\n",
              "       -0.08447266, -0.07763672, -0.04345703,  0.08105469, -0.01092529,\n",
              "        0.17480469,  0.30664062, -0.04321289, -0.01416016,  0.09082031,\n",
              "       -0.00927734, -0.03442383, -0.11523438,  0.12451172, -0.0246582 ,\n",
              "        0.08544922,  0.14355469, -0.27734375,  0.03662109, -0.11035156,\n",
              "        0.13085938, -0.01721191, -0.08056641, -0.00708008, -0.02954102,\n",
              "        0.30078125, -0.09033203,  0.03149414, -0.18652344, -0.11181641,\n",
              "        0.10253906, -0.25976562, -0.02209473,  0.16796875, -0.05322266,\n",
              "       -0.14550781, -0.01049805, -0.03039551, -0.03857422,  0.11523438,\n",
              "       -0.0062561 , -0.13964844,  0.08007812,  0.06103516, -0.15332031,\n",
              "       -0.11132812, -0.14160156,  0.19824219, -0.06933594,  0.29296875,\n",
              "       -0.16015625,  0.20898438,  0.00041771,  0.01831055, -0.20214844,\n",
              "        0.04760742,  0.05810547, -0.0123291 , -0.01989746, -0.00364685,\n",
              "       -0.0135498 , -0.08251953, -0.03149414,  0.00717163,  0.20117188,\n",
              "        0.08300781, -0.0480957 , -0.26367188, -0.09667969, -0.22558594,\n",
              "       -0.09667969,  0.06494141, -0.02502441,  0.08496094,  0.03198242,\n",
              "       -0.07568359, -0.25390625, -0.11669922, -0.01446533, -0.16015625,\n",
              "       -0.00701904, -0.05712891,  0.02807617, -0.09179688,  0.25195312,\n",
              "        0.24121094,  0.06640625,  0.12988281,  0.17089844, -0.13671875,\n",
              "        0.1875    , -0.10009766, -0.04199219, -0.12011719,  0.00524902,\n",
              "        0.15625   , -0.203125  , -0.07128906, -0.06103516,  0.01635742,\n",
              "        0.18261719,  0.03588867, -0.04248047,  0.16796875, -0.15039062,\n",
              "       -0.16992188,  0.01831055,  0.27734375, -0.01269531, -0.0390625 ,\n",
              "       -0.15429688,  0.18457031, -0.07910156,  0.09033203, -0.02709961,\n",
              "        0.08251953,  0.06738281, -0.16113281, -0.19628906, -0.15234375,\n",
              "       -0.04711914,  0.04760742,  0.05908203, -0.16894531, -0.14941406,\n",
              "        0.12988281,  0.04321289,  0.02624512, -0.1796875 , -0.19628906,\n",
              "        0.06445312,  0.08935547,  0.1640625 , -0.03808594, -0.09814453,\n",
              "       -0.01483154,  0.1875    ,  0.12792969,  0.22753906,  0.01818848,\n",
              "       -0.07958984, -0.11376953, -0.06933594, -0.15527344, -0.08105469,\n",
              "       -0.09277344, -0.11328125, -0.15136719, -0.08007812, -0.05126953,\n",
              "       -0.15332031,  0.11669922,  0.06835938,  0.0324707 , -0.33984375,\n",
              "       -0.08154297, -0.08349609,  0.04003906,  0.04907227, -0.24121094,\n",
              "       -0.13476562, -0.05932617,  0.12158203, -0.34179688,  0.16503906,\n",
              "        0.06176758, -0.18164062,  0.20117188, -0.07714844,  0.1640625 ,\n",
              "        0.00402832,  0.30273438, -0.10009766, -0.13671875, -0.05957031,\n",
              "        0.0625    , -0.21289062, -0.06542969,  0.1796875 , -0.07763672,\n",
              "       -0.01928711, -0.15039062, -0.00106049,  0.03417969,  0.03344727,\n",
              "        0.19335938,  0.01965332, -0.19921875, -0.10644531,  0.01525879,\n",
              "        0.00927734,  0.01416016, -0.02392578,  0.05883789,  0.02368164,\n",
              "        0.125     ,  0.04760742, -0.05566406,  0.11572266,  0.14746094,\n",
              "        0.1015625 , -0.07128906, -0.07714844, -0.12597656,  0.0291748 ,\n",
              "        0.09521484, -0.12402344, -0.109375  , -0.12890625,  0.16308594,\n",
              "        0.28320312, -0.03149414,  0.12304688, -0.23242188, -0.09375   ,\n",
              "       -0.12988281,  0.0135498 , -0.03881836, -0.08251953,  0.00897217,\n",
              "        0.16308594,  0.10546875, -0.13867188, -0.16503906, -0.03857422,\n",
              "        0.10839844, -0.10498047,  0.06396484,  0.38867188, -0.05981445,\n",
              "       -0.0612793 , -0.10449219, -0.16796875,  0.07177734,  0.13964844,\n",
              "        0.15527344, -0.03125   , -0.20214844, -0.12988281, -0.10058594,\n",
              "       -0.06396484, -0.08349609, -0.30273438, -0.08007812,  0.02099609],\n",
              "      dtype=float32)"
            ]
          },
          "metadata": {},
          "execution_count": 7
        }
      ]
    },
    {
      "cell_type": "code",
      "source": [
        "model['bottle']"
      ],
      "metadata": {
        "id": "aumfLjK6kWLp",
        "colab": {
          "base_uri": "https://localhost:8080/"
        },
        "outputId": "ec454b81-3902-458d-8885-59b030c34e72"
      },
      "execution_count": 8,
      "outputs": [
        {
          "output_type": "execute_result",
          "data": {
            "text/plain": [
              "array([-0.02941895,  0.11767578, -0.15039062,  0.00192261, -0.11230469,\n",
              "        0.30273438,  0.38476562, -0.2734375 ,  0.23828125,  0.29492188,\n",
              "       -0.08056641, -0.48242188,  0.05664062, -0.01623535, -0.31054688,\n",
              "        0.14941406, -0.16308594,  0.26757812,  0.09521484, -0.109375  ,\n",
              "        0.24414062,  0.09228516, -0.02404785, -0.15136719, -0.13769531,\n",
              "        0.18066406,  0.02270508,  0.26171875,  0.11230469,  0.12695312,\n",
              "        0.12060547, -0.00159454, -0.24511719,  0.04833984, -0.08935547,\n",
              "        0.00787354,  0.14257812, -0.04736328, -0.15039062, -0.00081253,\n",
              "       -0.33984375,  0.109375  ,  0.34570312, -0.11669922,  0.10253906,\n",
              "       -0.15234375, -0.02868652,  0.07324219,  0.11669922, -0.25390625,\n",
              "       -0.38867188, -0.10693359,  0.02441406, -0.31054688,  0.0534668 ,\n",
              "       -0.07275391,  0.14453125,  0.15332031, -0.06225586, -0.07177734,\n",
              "       -0.27929688,  0.05224609,  0.13964844, -0.02282715, -0.08642578,\n",
              "       -0.11572266,  0.05932617, -0.3359375 ,  0.34179688, -0.03344727,\n",
              "        0.06591797, -0.02514648,  0.39257812, -0.14257812, -0.37109375,\n",
              "        0.24902344, -0.03198242,  0.1953125 ,  0.23046875, -0.13476562,\n",
              "       -0.05932617, -0.296875  , -0.31640625, -0.1875    , -0.09179688,\n",
              "        0.10107422,  0.0559082 ,  0.16113281,  0.29492188,  0.07275391,\n",
              "       -0.13769531,  0.2734375 ,  0.06298828, -0.34765625, -0.25      ,\n",
              "        0.14160156,  0.02648926, -0.06005859,  0.09716797,  0.1640625 ,\n",
              "       -0.14355469, -0.07373047,  0.15625   ,  0.19335938,  0.06787109,\n",
              "       -0.3046875 ,  0.29492188,  0.02819824, -0.01965332, -0.14160156,\n",
              "        0.14746094, -0.109375  , -0.18066406, -0.22460938, -0.21484375,\n",
              "        0.03369141, -0.11816406, -0.17578125, -0.05737305, -0.05786133,\n",
              "       -0.13183594, -0.07226562, -0.02783203, -0.05859375,  0.02697754,\n",
              "       -0.08447266,  0.34179688, -0.16601562,  0.07910156,  0.04760742,\n",
              "       -0.23339844,  0.14257812, -0.30664062, -0.12402344, -0.0378418 ,\n",
              "        0.51171875,  0.328125  , -0.24316406,  0.07617188,  0.13574219,\n",
              "       -0.05493164, -0.25976562, -0.22363281, -0.19042969, -0.15527344,\n",
              "        0.13085938,  0.06738281,  0.03271484,  0.00549316, -0.32226562,\n",
              "        0.38671875,  0.18652344, -0.11572266,  0.00704956,  0.25390625,\n",
              "       -0.08105469, -0.22851562,  0.07421875,  0.01275635,  0.19140625,\n",
              "        0.00113678, -0.01623535,  0.08105469,  0.04638672,  0.078125  ,\n",
              "       -0.25976562,  0.2421875 ,  0.12695312, -0.2421875 , -0.12890625,\n",
              "       -0.15820312, -0.0859375 , -0.07177734,  0.22363281, -0.50390625,\n",
              "       -0.11914062,  0.13085938, -0.08203125, -0.43359375,  0.08349609,\n",
              "       -0.03344727,  0.08056641, -0.0177002 ,  0.125     , -0.2421875 ,\n",
              "        0.2109375 ,  0.00915527,  0.41015625, -0.203125  ,  0.11181641,\n",
              "       -0.18847656,  0.0625    , -0.02111816,  0.19726562, -0.12402344,\n",
              "        0.18847656, -0.03125   , -0.05371094, -0.140625  , -0.1796875 ,\n",
              "       -0.04467773,  0.04370117, -0.28710938,  0.13183594,  0.26171875,\n",
              "       -0.01409912, -0.08154297,  0.05932617,  0.03613281,  0.04833984,\n",
              "       -0.16992188, -0.11669922, -0.14746094,  0.19335938, -0.109375  ,\n",
              "        0.20898438, -0.23339844, -0.03930664,  0.01635742,  0.2578125 ,\n",
              "        0.02612305, -0.11376953, -0.0703125 ,  0.09863281,  0.23144531,\n",
              "        0.23535156,  0.15429688,  0.05078125, -0.02648926,  0.26171875,\n",
              "       -0.15429688,  0.02856445, -0.14453125, -0.11572266, -0.04858398,\n",
              "       -0.25585938, -0.25585938,  0.00056458,  0.21777344,  0.03564453,\n",
              "        0.07080078, -0.08007812,  0.06396484, -0.07861328,  0.2578125 ,\n",
              "        0.11767578, -0.32421875,  0.01116943, -0.14550781, -0.09667969,\n",
              "       -0.06201172,  0.0177002 ,  0.328125  ,  0.02490234,  0.03710938,\n",
              "        0.21386719,  0.00218201,  0.12451172,  0.02819824, -0.20410156,\n",
              "       -0.11962891,  0.0625    , -0.4375    ,  0.03320312,  0.00299072,\n",
              "       -0.16699219, -0.03466797, -0.13671875, -0.26757812,  0.14648438,\n",
              "       -0.18457031, -0.15429688, -0.1640625 ,  0.42773438,  0.25      ,\n",
              "        0.15429688, -0.06494141, -0.15332031, -0.03417969, -0.19921875,\n",
              "       -0.18945312,  0.11669922,  0.3046875 ,  0.08447266,  0.10058594,\n",
              "        0.0703125 , -0.11230469,  0.26757812,  0.01165771,  0.05151367,\n",
              "        0.21679688, -0.16113281, -0.10986328,  0.13085938, -0.10351562,\n",
              "       -0.390625  ,  0.14453125,  0.06079102, -0.07373047, -0.01989746],\n",
              "      dtype=float32)"
            ]
          },
          "metadata": {},
          "execution_count": 8
        }
      ]
    },
    {
      "cell_type": "code",
      "source": [
        "model.most_similar('man')"
      ],
      "metadata": {
        "id": "6erESQDOkeqo",
        "colab": {
          "base_uri": "https://localhost:8080/"
        },
        "outputId": "8abb60eb-23e2-4457-b591-84d8fefb86c8"
      },
      "execution_count": 9,
      "outputs": [
        {
          "output_type": "execute_result",
          "data": {
            "text/plain": [
              "[('woman', 0.7664012908935547),\n",
              " ('boy', 0.6824871301651001),\n",
              " ('teenager', 0.6586930155754089),\n",
              " ('teenage_girl', 0.6147903203964233),\n",
              " ('girl', 0.5921714305877686),\n",
              " ('suspected_purse_snatcher', 0.571636438369751),\n",
              " ('robber', 0.5585119128227234),\n",
              " ('Robbery_suspect', 0.5584409832954407),\n",
              " ('teen_ager', 0.5549196600914001),\n",
              " ('men', 0.5489763021469116)]"
            ]
          },
          "metadata": {},
          "execution_count": 9
        }
      ]
    },
    {
      "cell_type": "code",
      "source": [
        "model.most_similar('cricket')"
      ],
      "metadata": {
        "id": "Abd495hvklcz",
        "colab": {
          "base_uri": "https://localhost:8080/"
        },
        "outputId": "4e660d28-da89-4423-c4f1-3fa7f3f3227b"
      },
      "execution_count": 10,
      "outputs": [
        {
          "output_type": "execute_result",
          "data": {
            "text/plain": [
              "[('cricketing', 0.8372225761413574),\n",
              " ('cricketers', 0.8165745735168457),\n",
              " ('Test_cricket', 0.8094819188117981),\n",
              " ('Twenty##_cricket', 0.8068488240242004),\n",
              " ('Twenty##', 0.7624265551567078),\n",
              " ('Cricket', 0.75413978099823),\n",
              " ('cricketer', 0.7372578382492065),\n",
              " ('twenty##', 0.7316356897354126),\n",
              " ('T##_cricket', 0.7304614186286926),\n",
              " ('West_Indies_cricket', 0.6987985968589783)]"
            ]
          },
          "metadata": {},
          "execution_count": 10
        }
      ]
    },
    {
      "cell_type": "code",
      "source": [
        "model.similarity('man','woman')"
      ],
      "metadata": {
        "id": "2D1QevumkpQQ",
        "colab": {
          "base_uri": "https://localhost:8080/"
        },
        "outputId": "c965f813-cb28-4b0d-d3c2-6422707714a5"
      },
      "execution_count": 11,
      "outputs": [
        {
          "output_type": "execute_result",
          "data": {
            "text/plain": [
              "0.76640123"
            ]
          },
          "metadata": {},
          "execution_count": 11
        }
      ]
    },
    {
      "cell_type": "code",
      "source": [
        "model.similarity('man','PHP')"
      ],
      "metadata": {
        "colab": {
          "base_uri": "https://localhost:8080/"
        },
        "id": "FyrOCdDOkuVV",
        "outputId": "82bbdccb-2976-4cf6-b17c-fd085a912767"
      },
      "execution_count": 12,
      "outputs": [
        {
          "output_type": "execute_result",
          "data": {
            "text/plain": [
              "-0.032995153"
            ]
          },
          "metadata": {},
          "execution_count": 12
        }
      ]
    },
    {
      "cell_type": "code",
      "source": [
        "model.doesnt_match(['PHP','java','monkey'])"
      ],
      "metadata": {
        "colab": {
          "base_uri": "https://localhost:8080/",
          "height": 36
        },
        "id": "cjZoEk-Ekzp0",
        "outputId": "26a311d6-9ce6-416a-c486-975d9af05f0a"
      },
      "execution_count": 13,
      "outputs": [
        {
          "output_type": "execute_result",
          "data": {
            "text/plain": [
              "'monkey'"
            ],
            "application/vnd.google.colaboratory.intrinsic+json": {
              "type": "string"
            }
          },
          "metadata": {},
          "execution_count": 13
        }
      ]
    },
    {
      "cell_type": "code",
      "source": [
        "vec = model['king'] - model['man'] + model['woman']\n",
        "model.most_similar([vec])"
      ],
      "metadata": {
        "colab": {
          "base_uri": "https://localhost:8080/"
        },
        "id": "U0TDzF4Dk4M2",
        "outputId": "0d5fceba-dc7e-43d8-df28-64fc31879eac"
      },
      "execution_count": 14,
      "outputs": [
        {
          "output_type": "execute_result",
          "data": {
            "text/plain": [
              "[('king', 0.8449392318725586),\n",
              " ('queen', 0.7300517559051514),\n",
              " ('monarch', 0.645466148853302),\n",
              " ('princess', 0.6156251430511475),\n",
              " ('crown_prince', 0.5818676352500916),\n",
              " ('prince', 0.5777117609977722),\n",
              " ('kings', 0.5613663792610168),\n",
              " ('sultan', 0.5376775860786438),\n",
              " ('Queen_Consort', 0.5344247817993164),\n",
              " ('queens', 0.5289887189865112)]"
            ]
          },
          "metadata": {},
          "execution_count": 14
        }
      ]
    },
    {
      "cell_type": "code",
      "source": [
        "vec = model['INR'] - model['India'] + model['China']\n",
        "model.most_similar([vec])"
      ],
      "metadata": {
        "colab": {
          "base_uri": "https://localhost:8080/"
        },
        "id": "szPVa4b8lD4I",
        "outputId": "5e50e582-611a-4828-e430-ea146f4f03b0"
      },
      "execution_count": 15,
      "outputs": [
        {
          "output_type": "execute_result",
          "data": {
            "text/plain": [
              "[('INR', 0.7739980220794678),\n",
              " ('RMB', 0.6375728845596313),\n",
              " ('CNY##', 0.6112409830093384),\n",
              " ('yuan', 0.5944303870201111),\n",
              " ('CNY###', 0.5918893814086914),\n",
              " ('RMB3', 0.589189350605011),\n",
              " ('CNY', 0.5873592495918274),\n",
              " ('RMB###', 0.569147527217865),\n",
              " ('Rmb##', 0.56504887342453),\n",
              " ('RMB8', 0.5594514608383179)]"
            ]
          },
          "metadata": {},
          "execution_count": 15
        }
      ]
    },
    {
      "cell_type": "code",
      "source": [
        "import numpy as np\n",
        "import pandas as pds\n",
        "import os\n",
        "import gensim\n",
        "import json\n",
        "from zipfile import ZipFile"
      ],
      "metadata": {
        "id": "eYHFf3zglQDG"
      },
      "execution_count": 16,
      "outputs": []
    },
    {
      "cell_type": "code",
      "source": [
        "!kaggle datasets download -d khulasasndh/game-of-thrones-books"
      ],
      "metadata": {
        "id": "g2Q4s8hSBrqZ",
        "colab": {
          "base_uri": "https://localhost:8080/"
        },
        "outputId": "9332e933-7279-4728-ecdc-ec5214173273"
      },
      "execution_count": 17,
      "outputs": [
        {
          "output_type": "stream",
          "name": "stdout",
          "text": [
            "Dataset URL: https://www.kaggle.com/datasets/khulasasndh/game-of-thrones-books\n",
            "License(s): unknown\n",
            "Downloading game-of-thrones-books.zip to /content\n",
            "  0% 0.00/3.71M [00:00<?, ?B/s]\n",
            "100% 3.71M/3.71M [00:00<00:00, 44.4MB/s]\n"
          ]
        }
      ]
    },
    {
      "cell_type": "code",
      "source": [
        "kaggle_credentials = json.load(open(\"kaggle.json\"))"
      ],
      "metadata": {
        "id": "72MLOj8nC3qR"
      },
      "execution_count": 19,
      "outputs": []
    },
    {
      "cell_type": "code",
      "source": [
        "!unzip game-of-thrones-books.zip -d game-of-thrones-books"
      ],
      "metadata": {
        "colab": {
          "base_uri": "https://localhost:8080/"
        },
        "id": "xAUR1Do-G7Up",
        "outputId": "15c1c732-8e94-4c80-b9ba-50df2b01fba8"
      },
      "execution_count": 20,
      "outputs": [
        {
          "output_type": "stream",
          "name": "stdout",
          "text": [
            "Archive:  game-of-thrones-books.zip\n",
            "  inflating: game-of-thrones-books/001ssb.txt  \n",
            "  inflating: game-of-thrones-books/002ssb.txt  \n",
            "  inflating: game-of-thrones-books/003ssb.txt  \n",
            "  inflating: game-of-thrones-books/004ssb.txt  \n",
            "  inflating: game-of-thrones-books/005ssb.txt  \n"
          ]
        }
      ]
    },
    {
      "cell_type": "code",
      "source": [
        "import nltk\n",
        "nltk.download('punkt')"
      ],
      "metadata": {
        "colab": {
          "base_uri": "https://localhost:8080/"
        },
        "id": "Pef5HMiuHdsB",
        "outputId": "6efd0086-b9fe-4c7b-ffde-f5676e46f1dc"
      },
      "execution_count": 21,
      "outputs": [
        {
          "output_type": "stream",
          "name": "stderr",
          "text": [
            "[nltk_data] Downloading package punkt to /root/nltk_data...\n",
            "[nltk_data]   Unzipping tokenizers/punkt.zip.\n"
          ]
        },
        {
          "output_type": "execute_result",
          "data": {
            "text/plain": [
              "True"
            ]
          },
          "metadata": {},
          "execution_count": 21
        }
      ]
    },
    {
      "cell_type": "code",
      "source": [
        "from nltk import sent_tokenize\n",
        "from gensim.utils import simple_preprocess\n",
        "\n",
        "story = []\n",
        "for filename in os.listdir('/content/game-of-thrones-books'):\n",
        "  with open('/content/game-of-thrones-books/'+filename, encoding='Windows-1252') as f:\n",
        "    corpus = f.read()\n",
        "  raw_sent = sent_tokenize(corpus)\n",
        "  for sent in raw_sent:\n",
        "    story.append(simple_preprocess(sent))"
      ],
      "metadata": {
        "id": "-GiwvDtoC0gt"
      },
      "execution_count": 22,
      "outputs": []
    },
    {
      "cell_type": "code",
      "source": [
        "len(story)"
      ],
      "metadata": {
        "colab": {
          "base_uri": "https://localhost:8080/"
        },
        "id": "e0ojOp7JDj2J",
        "outputId": "16522fd1-8d05-45fb-a284-fc42143ad40a"
      },
      "execution_count": 23,
      "outputs": [
        {
          "output_type": "execute_result",
          "data": {
            "text/plain": [
              "145020"
            ]
          },
          "metadata": {},
          "execution_count": 23
        }
      ]
    },
    {
      "cell_type": "code",
      "source": [
        "model = gensim.models.Word2Vec(window=10,min_count=2,workers=4)"
      ],
      "metadata": {
        "id": "nchmUNfyDx5C"
      },
      "execution_count": 24,
      "outputs": []
    },
    {
      "cell_type": "code",
      "source": [
        "model.build_vocab(story)"
      ],
      "metadata": {
        "id": "sR29wI9EEDBW"
      },
      "execution_count": 25,
      "outputs": []
    },
    {
      "cell_type": "code",
      "source": [
        "model.train(story,total_examples=model.corpus_count,epochs=model.epochs)"
      ],
      "metadata": {
        "colab": {
          "base_uri": "https://localhost:8080/"
        },
        "id": "PXxfwgY3EHVr",
        "outputId": "40d92d8e-2244-4482-b084-03445b38a108"
      },
      "execution_count": 26,
      "outputs": [
        {
          "output_type": "execute_result",
          "data": {
            "text/plain": [
              "(6569210, 8628190)"
            ]
          },
          "metadata": {},
          "execution_count": 26
        }
      ]
    },
    {
      "cell_type": "code",
      "source": [
        "model.wv.most_similar('daenerys')"
      ],
      "metadata": {
        "colab": {
          "base_uri": "https://localhost:8080/"
        },
        "id": "9HxZTVjqEOKn",
        "outputId": "b0ae0494-1a82-400f-aaaa-089511907d61"
      },
      "execution_count": 27,
      "outputs": [
        {
          "output_type": "execute_result",
          "data": {
            "text/plain": [
              "[('stormborn', 0.8086167573928833),\n",
              " ('queen', 0.7353664040565491),\n",
              " ('targaryen', 0.7007834315299988),\n",
              " ('princess', 0.664178729057312),\n",
              " ('unburnt', 0.662218451499939),\n",
              " ('myrcella', 0.649945855140686),\n",
              " ('viserys', 0.647840678691864),\n",
              " ('margaery', 0.6457672119140625),\n",
              " ('dorne', 0.6302615404129028),\n",
              " ('khaleesi', 0.6176608204841614)]"
            ]
          },
          "metadata": {},
          "execution_count": 27
        }
      ]
    },
    {
      "cell_type": "code",
      "source": [
        "model.wv.doesnt_match(['jon','rikon','robb','arya','sansa','bran'])"
      ],
      "metadata": {
        "colab": {
          "base_uri": "https://localhost:8080/",
          "height": 53
        },
        "id": "Nk20LPfrEsN-",
        "outputId": "4406baf1-181e-4093-a914-afe983253a42"
      },
      "execution_count": 28,
      "outputs": [
        {
          "output_type": "stream",
          "name": "stderr",
          "text": [
            "WARNING:gensim.models.keyedvectors:vectors for words {'rikon'} are not present in the model, ignoring these words\n"
          ]
        },
        {
          "output_type": "execute_result",
          "data": {
            "text/plain": [
              "'jon'"
            ],
            "application/vnd.google.colaboratory.intrinsic+json": {
              "type": "string"
            }
          },
          "metadata": {},
          "execution_count": 28
        }
      ]
    },
    {
      "cell_type": "code",
      "source": [
        "model.wv.doesnt_match(['cersei','jaime','bronn','tyrion'])"
      ],
      "metadata": {
        "colab": {
          "base_uri": "https://localhost:8080/",
          "height": 36
        },
        "id": "aj4zgtx7E8wU",
        "outputId": "fa3eac19-f54f-41d2-8eec-774b3d9c52f2"
      },
      "execution_count": 29,
      "outputs": [
        {
          "output_type": "execute_result",
          "data": {
            "text/plain": [
              "'bronn'"
            ],
            "application/vnd.google.colaboratory.intrinsic+json": {
              "type": "string"
            }
          },
          "metadata": {},
          "execution_count": 29
        }
      ]
    },
    {
      "cell_type": "code",
      "source": [
        "model.wv['king']"
      ],
      "metadata": {
        "colab": {
          "base_uri": "https://localhost:8080/"
        },
        "id": "ERkMseQCFLS2",
        "outputId": "4a916558-8b81-47fe-af3c-4fc18183a078"
      },
      "execution_count": 30,
      "outputs": [
        {
          "output_type": "execute_result",
          "data": {
            "text/plain": [
              "array([ 2.0510519 ,  0.3844732 , -0.96028996,  2.0938795 , -3.032704  ,\n",
              "        3.453379  , -1.7453606 , -0.4733403 , -1.8049762 , -0.20273499,\n",
              "       -0.6471936 , -3.036754  ,  0.5178293 ,  3.3016355 , -2.184578  ,\n",
              "        0.36467433, -1.2598133 ,  2.6174624 , -0.44184503,  1.1016457 ,\n",
              "       -0.34265816,  0.34034583,  2.1157708 , -1.1454405 , -1.7484661 ,\n",
              "       -0.34105423, -1.70217   ,  0.5660155 , -1.4779236 ,  1.135742  ,\n",
              "       -2.4233081 ,  0.54134035,  0.3381051 ,  0.23104657, -0.19409873,\n",
              "       -2.430009  , -2.5120835 ,  0.36852413,  1.0986364 , -1.898342  ,\n",
              "        1.597821  ,  1.6997724 ,  2.1774368 , -0.45878267, -0.714171  ,\n",
              "       -0.48696   , -0.01648477, -4.9251075 ,  2.8757484 , -1.708764  ,\n",
              "       -3.3170378 , -0.17218418, -2.2134898 , -1.60998   ,  4.538107  ,\n",
              "       -1.2008681 ,  0.72394985, -0.27075684,  0.42137903,  0.35911328,\n",
              "        1.4273099 ,  1.6788616 ,  1.3507173 ,  2.7148812 , -0.79261273,\n",
              "       -0.49015653, -1.8770543 , -1.4229751 , -1.9229399 , -1.0743715 ,\n",
              "        1.2143618 ,  1.5504874 ,  5.338771  , -1.6661595 ,  3.2084982 ,\n",
              "        0.31754068,  0.32060578, -1.579128  ,  1.230529  , -1.886957  ,\n",
              "        0.46678478,  2.4264448 , -1.9628329 , -0.7187715 ,  0.13052355,\n",
              "       -1.2699308 ,  1.0287937 ,  2.0212781 ,  1.9000683 , -1.131848  ,\n",
              "       -0.44241807,  0.38958168, -1.0075794 , -2.9025347 ,  1.5908912 ,\n",
              "       -1.8703778 , -1.5496074 ,  1.0668771 , -0.79546136,  1.3315253 ],\n",
              "      dtype=float32)"
            ]
          },
          "metadata": {},
          "execution_count": 30
        }
      ]
    },
    {
      "cell_type": "code",
      "source": [
        "model.wv.similarity('arya','sansa')"
      ],
      "metadata": {
        "colab": {
          "base_uri": "https://localhost:8080/"
        },
        "id": "izGrryleFT1q",
        "outputId": "979b6485-b2b5-440a-da22-a12d1a5b7c5a"
      },
      "execution_count": 31,
      "outputs": [
        {
          "output_type": "execute_result",
          "data": {
            "text/plain": [
              "0.8747631"
            ]
          },
          "metadata": {},
          "execution_count": 31
        }
      ]
    },
    {
      "cell_type": "code",
      "source": [
        "model.wv.similarity('cersei','sansa')"
      ],
      "metadata": {
        "colab": {
          "base_uri": "https://localhost:8080/"
        },
        "id": "nJIL2dqQFabL",
        "outputId": "162e7ad6-4ce0-4e77-bc30-7afd969e40bc"
      },
      "execution_count": 32,
      "outputs": [
        {
          "output_type": "execute_result",
          "data": {
            "text/plain": [
              "0.7131523"
            ]
          },
          "metadata": {},
          "execution_count": 32
        }
      ]
    },
    {
      "cell_type": "code",
      "source": [
        "model.wv.get_normed_vectors()"
      ],
      "metadata": {
        "colab": {
          "base_uri": "https://localhost:8080/"
        },
        "id": "dAUlcn3JFfLy",
        "outputId": "57e115f4-6cb7-4b47-fa86-3440ca5c62a7"
      },
      "execution_count": 33,
      "outputs": [
        {
          "output_type": "execute_result",
          "data": {
            "text/plain": [
              "array([[-0.03818441, -0.0490794 ,  0.06829681, ..., -0.07303494,\n",
              "         0.03395651,  0.14668427],\n",
              "       [-0.09469038, -0.04122288,  0.04697543, ..., -0.01148441,\n",
              "        -0.04049474,  0.15109979],\n",
              "       [ 0.21262528, -0.09609239, -0.22456257, ..., -0.00436561,\n",
              "         0.1406361 , -0.21450368],\n",
              "       ...,\n",
              "       [-0.02574637,  0.02665018,  0.03164694, ...,  0.01295011,\n",
              "         0.15052941, -0.11007456],\n",
              "       [ 0.00032248,  0.07742383,  0.11605297, ..., -0.04351674,\n",
              "        -0.03698301, -0.05388062],\n",
              "       [ 0.00539121,  0.01586817,  0.13664716, ..., -0.19669831,\n",
              "        -0.02566627, -0.03045388]], dtype=float32)"
            ]
          },
          "metadata": {},
          "execution_count": 33
        }
      ]
    },
    {
      "cell_type": "code",
      "source": [
        "y = model.wv.index_to_key"
      ],
      "metadata": {
        "id": "jQUejaQRFmFA"
      },
      "execution_count": 34,
      "outputs": []
    },
    {
      "cell_type": "code",
      "source": [
        "y"
      ],
      "metadata": {
        "colab": {
          "base_uri": "https://localhost:8080/"
        },
        "id": "EtM4l3JxIs2a",
        "outputId": "cbb8ef73-a448-47e8-aaed-7b867d4523ee"
      },
      "execution_count": 35,
      "outputs": [
        {
          "output_type": "execute_result",
          "data": {
            "text/plain": [
              "['the',\n",
              " 'and',\n",
              " 'to',\n",
              " 'of',\n",
              " 'he',\n",
              " 'his',\n",
              " 'was',\n",
              " 'you',\n",
              " 'her',\n",
              " 'in',\n",
              " 'it',\n",
              " 'had',\n",
              " 'that',\n",
              " 'she',\n",
              " 'as',\n",
              " 'with',\n",
              " 'him',\n",
              " 'not',\n",
              " 'but',\n",
              " 'for',\n",
              " 'they',\n",
              " 'is',\n",
              " 'at',\n",
              " 'on',\n",
              " 'said',\n",
              " 'my',\n",
              " 'have',\n",
              " 'be',\n",
              " 'lord',\n",
              " 'them',\n",
              " 'no',\n",
              " 'from',\n",
              " 'would',\n",
              " 'were',\n",
              " 'me',\n",
              " 'your',\n",
              " 'one',\n",
              " 'all',\n",
              " 'when',\n",
              " 'will',\n",
              " 'ser',\n",
              " 'if',\n",
              " 'so',\n",
              " 'their',\n",
              " 'we',\n",
              " 'could',\n",
              " 'are',\n",
              " 'man',\n",
              " 'there',\n",
              " 'this',\n",
              " 'up',\n",
              " 'been',\n",
              " 'what',\n",
              " 'did',\n",
              " 'by',\n",
              " 'king',\n",
              " 'do',\n",
              " 'men',\n",
              " 'back',\n",
              " 'out',\n",
              " 'more',\n",
              " 'or',\n",
              " 'who',\n",
              " 'down',\n",
              " 'well',\n",
              " 'than',\n",
              " 'only',\n",
              " 'like',\n",
              " 'jon',\n",
              " 'some',\n",
              " 'father',\n",
              " 'old',\n",
              " 'hand',\n",
              " 'even',\n",
              " 'too',\n",
              " 'tyrion',\n",
              " 'before',\n",
              " 'never',\n",
              " 'an',\n",
              " 'off',\n",
              " 'see',\n",
              " 'know',\n",
              " 'into',\n",
              " 'made',\n",
              " 'now',\n",
              " 'eyes',\n",
              " 'black',\n",
              " 'told',\n",
              " 'lady',\n",
              " 'thought',\n",
              " 'time',\n",
              " 'then',\n",
              " 'how',\n",
              " 'long',\n",
              " 'has',\n",
              " 'can',\n",
              " 'might',\n",
              " 'us',\n",
              " 'come',\n",
              " 'where',\n",
              " 'here',\n",
              " 'through',\n",
              " 'face',\n",
              " 'still',\n",
              " 'head',\n",
              " 'red',\n",
              " 'll',\n",
              " 'way',\n",
              " 'boy',\n",
              " 'page',\n",
              " 'must',\n",
              " 'once',\n",
              " 'queen',\n",
              " 'good',\n",
              " 'two',\n",
              " 'brother',\n",
              " 'night',\n",
              " 'over',\n",
              " 'little',\n",
              " 'about',\n",
              " 'took',\n",
              " 'other',\n",
              " 'came',\n",
              " 'though',\n",
              " 'again',\n",
              " 'say',\n",
              " 'three',\n",
              " 'should',\n",
              " 'away',\n",
              " 'dead',\n",
              " 'son',\n",
              " 'own',\n",
              " 'blood',\n",
              " 'am',\n",
              " 'take',\n",
              " 'go',\n",
              " 'half',\n",
              " 'make',\n",
              " 'arya',\n",
              " 'saw',\n",
              " 'day',\n",
              " 'white',\n",
              " 'jaime',\n",
              " 'first',\n",
              " 'himself',\n",
              " 'our',\n",
              " 'look',\n",
              " 'want',\n",
              " 'after',\n",
              " 'much',\n",
              " 'enough',\n",
              " 'sword',\n",
              " 'tell',\n",
              " 'girl',\n",
              " 'bran',\n",
              " 'great',\n",
              " 'its',\n",
              " 'looked',\n",
              " 'left',\n",
              " 'knew',\n",
              " 'asked',\n",
              " 'gave',\n",
              " 'maester',\n",
              " 'called',\n",
              " 'wall',\n",
              " 'every',\n",
              " 'heard',\n",
              " 'sansa',\n",
              " 'let',\n",
              " 'yet',\n",
              " 'went',\n",
              " 'turned',\n",
              " 'dany',\n",
              " 'why',\n",
              " 'need',\n",
              " 'behind',\n",
              " 'around',\n",
              " 'just',\n",
              " 'woman',\n",
              " 'another',\n",
              " 'snow',\n",
              " 'beneath',\n",
              " 'across',\n",
              " 'knight',\n",
              " 'keep',\n",
              " 'grace',\n",
              " 'found',\n",
              " 'gold',\n",
              " 'any',\n",
              " 'last',\n",
              " 'cersei',\n",
              " 'castle',\n",
              " 'those',\n",
              " 'stark',\n",
              " 'gods',\n",
              " 'think',\n",
              " 'hair',\n",
              " 'many',\n",
              " 'feet',\n",
              " 'against',\n",
              " 'hands',\n",
              " 'stannis',\n",
              " 'mother',\n",
              " 'catelyn',\n",
              " 'robert',\n",
              " 'seemed',\n",
              " 'prince',\n",
              " 'may',\n",
              " 'ever',\n",
              " 'robb',\n",
              " 'done',\n",
              " 'don',\n",
              " 'find',\n",
              " 'lannister',\n",
              " 're',\n",
              " 'hear',\n",
              " 'name',\n",
              " 'grey',\n",
              " 'horse',\n",
              " 'high',\n",
              " 'put',\n",
              " 'stone',\n",
              " 'wine',\n",
              " 'hard',\n",
              " 'water',\n",
              " 'upon',\n",
              " 'fire',\n",
              " 'iron',\n",
              " 'until',\n",
              " 'these',\n",
              " 'voice',\n",
              " 'gone',\n",
              " 'give',\n",
              " 'sam',\n",
              " 'seen',\n",
              " 'better',\n",
              " 'shall',\n",
              " 'ned',\n",
              " 'always',\n",
              " 'years',\n",
              " 'between',\n",
              " 'dark',\n",
              " 'place',\n",
              " 'small',\n",
              " 'cold',\n",
              " 'winterfell',\n",
              " 'most',\n",
              " 'hundred',\n",
              " 'stood',\n",
              " 'end',\n",
              " 'sister',\n",
              " 'words',\n",
              " 'sea',\n",
              " 'right',\n",
              " 'nothing',\n",
              " 'walls',\n",
              " 'fingers',\n",
              " 'same',\n",
              " 'house',\n",
              " 'cloak',\n",
              " 'young',\n",
              " 'does',\n",
              " 'beside',\n",
              " 'get',\n",
              " 'mouth',\n",
              " 'seven',\n",
              " 'watch',\n",
              " 'door',\n",
              " 'joffrey',\n",
              " 'green',\n",
              " 'big',\n",
              " 'under',\n",
              " 'few',\n",
              " 'sent',\n",
              " 'perhaps',\n",
              " 'almost',\n",
              " 'such',\n",
              " 'wanted',\n",
              " 'daughter',\n",
              " 'true',\n",
              " 'leave',\n",
              " 'while',\n",
              " 'city',\n",
              " 'wind',\n",
              " 'light',\n",
              " 'arms',\n",
              " 'children',\n",
              " 'herself',\n",
              " 'sweet',\n",
              " 'others',\n",
              " 'lost',\n",
              " 'theon',\n",
              " 'each',\n",
              " 'felt',\n",
              " 'side',\n",
              " 'yes',\n",
              " 'brothers',\n",
              " 'best',\n",
              " 'very',\n",
              " 'die',\n",
              " 'brought',\n",
              " 'soon',\n",
              " 'died',\n",
              " 'far',\n",
              " 'north',\n",
              " 'child',\n",
              " 'fear',\n",
              " 'along',\n",
              " 'brienne',\n",
              " 'word',\n",
              " 'both',\n",
              " 'taken',\n",
              " 'battle',\n",
              " 'help',\n",
              " 'new',\n",
              " 'tywin',\n",
              " 'lords',\n",
              " 'davos',\n",
              " 'something',\n",
              " 'mean',\n",
              " 'wife',\n",
              " 've',\n",
              " 'rest',\n",
              " 'hall',\n",
              " 'kill',\n",
              " 'steel',\n",
              " 'strong',\n",
              " 'began',\n",
              " 'won',\n",
              " 'sound',\n",
              " 'dragon',\n",
              " 'past',\n",
              " 'life',\n",
              " 'tower',\n",
              " 'killed',\n",
              " 'arm',\n",
              " 'tried',\n",
              " 'sons',\n",
              " 'free',\n",
              " 'thing',\n",
              " 'days',\n",
              " 'bear',\n",
              " 'bloody',\n",
              " 'heart',\n",
              " 'pale',\n",
              " 'love',\n",
              " 'sat',\n",
              " 'moment',\n",
              " 'bring',\n",
              " 'bed',\n",
              " 'close',\n",
              " 'knights',\n",
              " 'cut',\n",
              " 'wolf',\n",
              " 'death',\n",
              " 'smile',\n",
              " 'horses',\n",
              " 'inside',\n",
              " 'four',\n",
              " 'brown',\n",
              " 'hot',\n",
              " 'dragons',\n",
              " 'silver',\n",
              " 'part',\n",
              " 'bastard',\n",
              " 'open',\n",
              " 'thousand',\n",
              " 'nor',\n",
              " 'landing',\n",
              " 'uncle',\n",
              " 'above',\n",
              " 'going',\n",
              " 'blue',\n",
              " 'air',\n",
              " 'captain',\n",
              " 'please',\n",
              " 'laughed',\n",
              " 'river',\n",
              " 'sun',\n",
              " 'rose',\n",
              " 'fell',\n",
              " 'war',\n",
              " 'golden',\n",
              " 'sleep',\n",
              " 'without',\n",
              " 'swords',\n",
              " 'renly',\n",
              " 'speak',\n",
              " 'certain',\n",
              " 'full',\n",
              " 'fool',\n",
              " 'beyond',\n",
              " 'feel',\n",
              " 'send',\n",
              " 'tongue',\n",
              " 'fight',\n",
              " 'got',\n",
              " 'rode',\n",
              " 'set',\n",
              " 'thick',\n",
              " 'throat',\n",
              " 'world',\n",
              " 'legs',\n",
              " 'deep',\n",
              " 'call',\n",
              " 'honor',\n",
              " 'rock',\n",
              " 'trees',\n",
              " 'tall',\n",
              " 'table',\n",
              " 'pulled',\n",
              " 'broken',\n",
              " 'women',\n",
              " 'mormont',\n",
              " 'steps',\n",
              " 'things',\n",
              " 'next',\n",
              " 'hodor',\n",
              " 'heavy',\n",
              " 'burned',\n",
              " 'oh',\n",
              " 'toward',\n",
              " 'together',\n",
              " 'skin',\n",
              " 'given',\n",
              " 'since',\n",
              " 'smiled',\n",
              " 'moved',\n",
              " 'alone',\n",
              " 'dwarf',\n",
              " 'storm',\n",
              " 'raised',\n",
              " 'ride',\n",
              " 'ask',\n",
              " 'eye',\n",
              " 'hope',\n",
              " 'soft',\n",
              " 'reached',\n",
              " 'frey',\n",
              " 'second',\n",
              " 'remember',\n",
              " 'someone',\n",
              " 'remembered',\n",
              " 'coming',\n",
              " 'cannot',\n",
              " 'hold',\n",
              " 'meant',\n",
              " 'morning',\n",
              " 'ten',\n",
              " 'else',\n",
              " 'teeth',\n",
              " 'throne',\n",
              " 'command',\n",
              " 'which',\n",
              " 'fat',\n",
              " 'truth',\n",
              " 'walder',\n",
              " 'commander',\n",
              " 'ground',\n",
              " 'doubt',\n",
              " 'jorah',\n",
              " 'outside',\n",
              " 'cup',\n",
              " 'known',\n",
              " 'wore',\n",
              " 'ran',\n",
              " 'gate',\n",
              " 'held',\n",
              " 'room',\n",
              " 'closed',\n",
              " 'home',\n",
              " 'matter',\n",
              " 'south',\n",
              " 'wood',\n",
              " 'sky',\n",
              " 'dozen',\n",
              " 'wed',\n",
              " 'people',\n",
              " 'neck',\n",
              " 'riverrun',\n",
              " 'food',\n",
              " 'near',\n",
              " 'instead',\n",
              " 'turn',\n",
              " 'talk',\n",
              " 'none',\n",
              " 'ships',\n",
              " 'tyrell',\n",
              " 'below',\n",
              " 'moon',\n",
              " 'shadow',\n",
              " 'bolton',\n",
              " 'summer',\n",
              " 'lips',\n",
              " 'watched',\n",
              " 'times',\n",
              " 'leather',\n",
              " 'varys',\n",
              " 'shoulder',\n",
              " 'warm',\n",
              " 'septon',\n",
              " 'believe',\n",
              " 'caught',\n",
              " 'least',\n",
              " 'guards',\n",
              " 'answer',\n",
              " 'blade',\n",
              " 'god',\n",
              " 'ice',\n",
              " 'wondered',\n",
              " 'mine',\n",
              " 'opened',\n",
              " 'barristan',\n",
              " 'shield',\n",
              " 'armor',\n",
              " 'safe',\n",
              " 'six',\n",
              " 'kept',\n",
              " 'return',\n",
              " 'wish',\n",
              " 'tommen',\n",
              " 'used',\n",
              " 'smell',\n",
              " 'less',\n",
              " 'being',\n",
              " 'foot',\n",
              " 'floor',\n",
              " 'squire',\n",
              " 'eddard',\n",
              " 'empty',\n",
              " 'followed',\n",
              " 'run',\n",
              " 'friends',\n",
              " 'serve',\n",
              " 'beard',\n",
              " 'boys',\n",
              " 'cloaks',\n",
              " 'baratheon',\n",
              " 'wedding',\n",
              " 'wrong',\n",
              " 'eat',\n",
              " 'daenerys',\n",
              " 'ghost',\n",
              " 'five',\n",
              " 'hound',\n",
              " 'sight',\n",
              " 'flesh',\n",
              " 'ship',\n",
              " 'strength',\n",
              " 'nose',\n",
              " 'bones',\n",
              " 'returned',\n",
              " 'crown',\n",
              " 'yellow',\n",
              " 'chest',\n",
              " 'covered',\n",
              " 'says',\n",
              " 'commanded',\n",
              " 'petyr',\n",
              " 'sometimes',\n",
              " 'aemon',\n",
              " 'filled',\n",
              " 'led',\n",
              " 'friend',\n",
              " 'yours',\n",
              " 'common',\n",
              " 'aye',\n",
              " 'fighting',\n",
              " 'show',\n",
              " 'spoke',\n",
              " 'flames',\n",
              " 'aside',\n",
              " 'huge',\n",
              " 'lysa',\n",
              " 'asha',\n",
              " 'crow',\n",
              " 'belly',\n",
              " 'master',\n",
              " 'breath',\n",
              " 'seem',\n",
              " 'yard',\n",
              " 'gates',\n",
              " 'waiting',\n",
              " 'within',\n",
              " 'looking',\n",
              " 'wet',\n",
              " 'wooden',\n",
              " 'realm',\n",
              " 'thin',\n",
              " 'work',\n",
              " 'bad',\n",
              " 'use',\n",
              " 'promised',\n",
              " 'husband',\n",
              " 'later',\n",
              " 'tree',\n",
              " 'grew',\n",
              " 'onto',\n",
              " 'loved',\n",
              " 'wildlings',\n",
              " 'afraid',\n",
              " 'greyjoy',\n",
              " 'girls',\n",
              " 'rain',\n",
              " 'shoulders',\n",
              " 'shouted',\n",
              " 'walked',\n",
              " 'maid',\n",
              " 'guard',\n",
              " 'late',\n",
              " 'remained',\n",
              " 'mance',\n",
              " 'liked',\n",
              " 'meereen',\n",
              " 'littlefinger',\n",
              " 'fall',\n",
              " 'year',\n",
              " 'dog',\n",
              " 'margaery',\n",
              " 'hurt',\n",
              " 'passed',\n",
              " 'balon',\n",
              " 'taste',\n",
              " 'drew',\n",
              " 'dothraki',\n",
              " 'lay',\n",
              " 'realized',\n",
              " 'pushed',\n",
              " 'spear',\n",
              " 'song',\n",
              " 'named',\n",
              " 'sure',\n",
              " 'reach',\n",
              " 'finally',\n",
              " 'different',\n",
              " 'stand',\n",
              " 'whispered',\n",
              " 'brave',\n",
              " 'suddenly',\n",
              " 'wolves',\n",
              " 'poor',\n",
              " 'drogo',\n",
              " 'kingsguard',\n",
              " 'stay',\n",
              " 'arryn',\n",
              " 'stop',\n",
              " 'kingdoms',\n",
              " 'edmure',\n",
              " 'ears',\n",
              " 'broke',\n",
              " 'princess',\n",
              " 'burning',\n",
              " 'faces',\n",
              " 'dream',\n",
              " 'lannisters',\n",
              " 'direwolf',\n",
              " 'axe',\n",
              " 'west',\n",
              " 'heir',\n",
              " 'tears',\n",
              " 'darkness',\n",
              " 'either',\n",
              " 'clegane',\n",
              " 'drink',\n",
              " 'raven',\n",
              " 'pointed',\n",
              " 'try',\n",
              " 'hill',\n",
              " 'forward',\n",
              " 'pain',\n",
              " 'sworn',\n",
              " 'khal',\n",
              " 'lie',\n",
              " 'truly',\n",
              " 'kings',\n",
              " 'dagger',\n",
              " 'grown',\n",
              " 'seat',\n",
              " 'born',\n",
              " 'road',\n",
              " 'care',\n",
              " 'harrenhal',\n",
              " 'bronn',\n",
              " 'helm',\n",
              " 'round',\n",
              " 'feast',\n",
              " 'understand',\n",
              " 'meat',\n",
              " 'pycelle',\n",
              " 'quick',\n",
              " 'amongst',\n",
              " 'lifted',\n",
              " 'longer',\n",
              " 'reminded',\n",
              " 'whilst',\n",
              " 'maybe',\n",
              " 'mountain',\n",
              " 'short',\n",
              " 'step',\n",
              " 'rodrik',\n",
              " 'melisandre',\n",
              " 'ones',\n",
              " 'pretty',\n",
              " 'third',\n",
              " 'worse',\n",
              " 'lands',\n",
              " 'stopped',\n",
              " 'aegon',\n",
              " 'bit',\n",
              " 'sit',\n",
              " 'save',\n",
              " 'victarion',\n",
              " 'sharp',\n",
              " 'knows',\n",
              " 'smoke',\n",
              " 'whose',\n",
              " 'live',\n",
              " 'horn',\n",
              " 'window',\n",
              " 'pray',\n",
              " 'leg',\n",
              " 'younger',\n",
              " 'westeros',\n",
              " 'silk',\n",
              " 'twenty',\n",
              " 'heads',\n",
              " 'didn',\n",
              " 'septa',\n",
              " 'peace',\n",
              " 'ago',\n",
              " 'slaves',\n",
              " 'pie',\n",
              " 'hizdahr',\n",
              " 'laugh',\n",
              " 'bread',\n",
              " 'low',\n",
              " 'wants',\n",
              " 'mind',\n",
              " 'blind',\n",
              " 'east',\n",
              " 'bright',\n",
              " 'towers',\n",
              " 'reek',\n",
              " 'mad',\n",
              " 'sooner',\n",
              " 'myself',\n",
              " 'slain',\n",
              " 'camp',\n",
              " 'older',\n",
              " 'making',\n",
              " 'coin',\n",
              " 'walk',\n",
              " 'narrow',\n",
              " 'served',\n",
              " 'drowned',\n",
              " 'point',\n",
              " 'salt',\n",
              " 'wait',\n",
              " 'glanced',\n",
              " 'knife',\n",
              " 'cousin',\n",
              " 'cheeks',\n",
              " 'luwin',\n",
              " 'stepped',\n",
              " 'shook',\n",
              " 'sort',\n",
              " 'quiet',\n",
              " 'touched',\n",
              " 'riding',\n",
              " 'targaryen',\n",
              " 'often',\n",
              " 'naked',\n",
              " 'loras',\n",
              " 'twisted',\n",
              " 'choice',\n",
              " 'during',\n",
              " 'forgotten',\n",
              " 'kevan',\n",
              " 'lion',\n",
              " 'silence',\n",
              " 'fish',\n",
              " 'read',\n",
              " 'hung',\n",
              " 'ramsay',\n",
              " 'gift',\n",
              " 'fallen',\n",
              " 'replied',\n",
              " 'running',\n",
              " 'knees',\n",
              " 'large',\n",
              " 'fought',\n",
              " 'silent',\n",
              " 'cat',\n",
              " 'ahead',\n",
              " 'company',\n",
              " 'dogs',\n",
              " 'sept',\n",
              " 'rhaegar',\n",
              " 'dawn',\n",
              " 'beautiful',\n",
              " 'needs',\n",
              " 'knee',\n",
              " 'dorne',\n",
              " 'casterly',\n",
              " 'pass',\n",
              " 'tully',\n",
              " 'themselves',\n",
              " 'mud',\n",
              " 'stupid',\n",
              " 'singer',\n",
              " 'gregor',\n",
              " 'court',\n",
              " 'body',\n",
              " 'trying',\n",
              " 'age',\n",
              " 'meera',\n",
              " 'top',\n",
              " 'swear',\n",
              " 'kind',\n",
              " 'offered',\n",
              " 'gendry',\n",
              " 'clothes',\n",
              " 'whole',\n",
              " 'leaves',\n",
              " 'closer',\n",
              " 'kiss',\n",
              " 'anything',\n",
              " 'wonder',\n",
              " 'threw',\n",
              " 'agreed',\n",
              " 'whatever',\n",
              " 'pay',\n",
              " 'answered',\n",
              " 'climbed',\n",
              " 'saddle',\n",
              " 'saying',\n",
              " 'wide',\n",
              " 'comes',\n",
              " 'stars',\n",
              " 'trust',\n",
              " 'stones',\n",
              " 'host',\n",
              " 'chain',\n",
              " 'trident',\n",
              " 'fair',\n",
              " 'pleased',\n",
              " 'yourself',\n",
              " 'dying',\n",
              " 'dry',\n",
              " 'spears',\n",
              " 'eight',\n",
              " 'yunkai',\n",
              " 'ear',\n",
              " 'hour',\n",
              " 'insisted',\n",
              " 'fast',\n",
              " 'service',\n",
              " 'ought',\n",
              " 'doors',\n",
              " 'carried',\n",
              " 'mail',\n",
              " 'woods',\n",
              " 'fist',\n",
              " 'council',\n",
              " 'thank',\n",
              " 'fine',\n",
              " 'join',\n",
              " 'wildling',\n",
              " 'wasn',\n",
              " 'milk',\n",
              " 'needed',\n",
              " 'crossed',\n",
              " 'finger',\n",
              " 'gilly',\n",
              " 'quentyn',\n",
              " 'shadows',\n",
              " 'doing',\n",
              " 'tent',\n",
              " 'win',\n",
              " 'helped',\n",
              " 'land',\n",
              " 'bird',\n",
              " 'boots',\n",
              " 'somehow',\n",
              " 'names',\n",
              " 'imp',\n",
              " 'crows',\n",
              " 'folk',\n",
              " 'winter',\n",
              " 'letter',\n",
              " 'kissed',\n",
              " 'banners',\n",
              " 'screamed',\n",
              " 'pink',\n",
              " 'angry',\n",
              " 'frightened',\n",
              " 'learn',\n",
              " 'torch',\n",
              " 'alive',\n",
              " 'eunuch',\n",
              " 'chair',\n",
              " 'daughters',\n",
              " 'watching',\n",
              " 'dragonstone',\n",
              " 'fires',\n",
              " 'harm',\n",
              " 'tarly',\n",
              " 'neither',\n",
              " 'learned',\n",
              " 'nine',\n",
              " 'easy',\n",
              " 'serving',\n",
              " 'standing',\n",
              " 'drunk',\n",
              " 'question',\n",
              " 'wings',\n",
              " 'sail',\n",
              " 'sisters',\n",
              " 'myrcella',\n",
              " 'priest',\n",
              " 'nodded',\n",
              " 'warned',\n",
              " 'harbor',\n",
              " 'bone',\n",
              " 'giant',\n",
              " 'forth',\n",
              " 'slow',\n",
              " 'slipped',\n",
              " 'field',\n",
              " 'slid',\n",
              " 'dreams',\n",
              " 'bronze',\n",
              " 'slowly',\n",
              " 'falling',\n",
              " 'promise',\n",
              " 'atop',\n",
              " 'whore',\n",
              " 'rise',\n",
              " 'slave',\n",
              " 'illyrio',\n",
              " 'move',\n",
              " 'line',\n",
              " 'makes',\n",
              " 'flowers',\n",
              " 'laughter',\n",
              " 'pyke',\n",
              " 'faced',\n",
              " 'declared',\n",
              " 'earth',\n",
              " 'loose',\n",
              " 'grass',\n",
              " 'bay',\n",
              " 'viserys',\n",
              " 'lived',\n",
              " 'front',\n",
              " 'power',\n",
              " 'twice',\n",
              " 'happened',\n",
              " 'cell',\n",
              " 'play',\n",
              " 'because',\n",
              " 'chains',\n",
              " 'dance',\n",
              " 'break',\n",
              " 'oldtown',\n",
              " 'aerys',\n",
              " 'surely',\n",
              " 'clean',\n",
              " 'claim',\n",
              " 'jeyne',\n",
              " 'eyrie',\n",
              " 'unless',\n",
              " 'cried',\n",
              " 'fresh',\n",
              " 'quite',\n",
              " 'laid',\n",
              " 'tormund',\n",
              " 'pair',\n",
              " 'craster',\n",
              " 'met',\n",
              " 'morrow',\n",
              " 'shouting',\n",
              " 'sad',\n",
              " 'game',\n",
              " 'already',\n",
              " 'rule',\n",
              " 'softly',\n",
              " 'touch',\n",
              " 'sense',\n",
              " 'woke',\n",
              " 'count',\n",
              " 'started',\n",
              " 'afterward',\n",
              " 'mounted',\n",
              " 'steward',\n",
              " 'highgarden',\n",
              " 'jojen',\n",
              " 'waters',\n",
              " 'hide',\n",
              " 'captive',\n",
              " ...]"
            ]
          },
          "metadata": {},
          "execution_count": 35
        }
      ]
    },
    {
      "cell_type": "code",
      "source": [
        "from sklearn.decomposition import PCA\n",
        "pca = PCA(n_components=3)"
      ],
      "metadata": {
        "id": "-TtjYQXOItpT"
      },
      "execution_count": 36,
      "outputs": []
    },
    {
      "cell_type": "code",
      "source": [
        "X = pca.fit_transform(model.wv.get_normed_vectors())"
      ],
      "metadata": {
        "id": "NAjHWDUmI041"
      },
      "execution_count": 37,
      "outputs": []
    },
    {
      "cell_type": "code",
      "source": [
        "X[:5]"
      ],
      "metadata": {
        "colab": {
          "base_uri": "https://localhost:8080/"
        },
        "id": "dWnD4DYFI6D0",
        "outputId": "5d11a909-94b7-4d0c-c55d-1102520abfef"
      },
      "execution_count": 38,
      "outputs": [
        {
          "output_type": "execute_result",
          "data": {
            "text/plain": [
              "array([[-0.15896119,  0.57601905, -0.01622955],\n",
              "       [-0.13931267,  0.34959236,  0.04923771],\n",
              "       [ 0.2981694 ,  0.57399756,  0.20711876],\n",
              "       [ 0.00148741,  0.36951855, -0.1134359 ],\n",
              "       [ 0.13866639,  0.5477668 ,  0.29364958]], dtype=float32)"
            ]
          },
          "metadata": {},
          "execution_count": 38
        }
      ]
    },
    {
      "cell_type": "code",
      "source": [
        "import plotly.express as px\n",
        "fig = px.scatter_3d(X[:100],x=0,y=1,z=2,color=y[:100])\n",
        "fig.show()"
      ],
      "metadata": {
        "colab": {
          "base_uri": "https://localhost:8080/",
          "height": 542
        },
        "id": "4Aq06o83I7BB",
        "outputId": "f6f290ab-449c-4bca-b7df-98af6803572a"
      },
      "execution_count": 39,
      "outputs": [
        {
          "output_type": "display_data",
          "data": {
            "text/html": [
              "<html>\n",
              "<head><meta charset=\"utf-8\" /></head>\n",
              "<body>\n",
              "    <div>            <script src=\"https://cdnjs.cloudflare.com/ajax/libs/mathjax/2.7.5/MathJax.js?config=TeX-AMS-MML_SVG\"></script><script type=\"text/javascript\">if (window.MathJax && window.MathJax.Hub && window.MathJax.Hub.Config) {window.MathJax.Hub.Config({SVG: {font: \"STIX-Web\"}});}</script>                <script type=\"text/javascript\">window.PlotlyConfig = {MathJaxConfig: 'local'};</script>\n",
              "        <script charset=\"utf-8\" src=\"https://cdn.plot.ly/plotly-2.24.1.min.js\"></script>                <div id=\"b81334e7-f5cb-412a-9386-564f46755b26\" class=\"plotly-graph-div\" style=\"height:525px; width:100%;\"></div>            <script type=\"text/javascript\">                                    window.PLOTLYENV=window.PLOTLYENV || {};                                    if (document.getElementById(\"b81334e7-f5cb-412a-9386-564f46755b26\")) {                    Plotly.newPlot(                        \"b81334e7-f5cb-412a-9386-564f46755b26\",                        [{\"hovertemplate\":\"color=the\\u003cbr\\u003e0=%{x}\\u003cbr\\u003e1=%{y}\\u003cbr\\u003e2=%{z}\\u003cextra\\u003e\\u003c\\u002fextra\\u003e\",\"legendgroup\":\"the\",\"marker\":{\"color\":\"#636efa\",\"symbol\":\"circle\"},\"mode\":\"markers\",\"name\":\"the\",\"scene\":\"scene\",\"showlegend\":true,\"x\":[-0.1589611917734146],\"y\":[0.5760190486907959],\"z\":[-0.016229549422860146],\"type\":\"scatter3d\"},{\"hovertemplate\":\"color=and\\u003cbr\\u003e0=%{x}\\u003cbr\\u003e1=%{y}\\u003cbr\\u003e2=%{z}\\u003cextra\\u003e\\u003c\\u002fextra\\u003e\",\"legendgroup\":\"and\",\"marker\":{\"color\":\"#EF553B\",\"symbol\":\"circle\"},\"mode\":\"markers\",\"name\":\"and\",\"scene\":\"scene\",\"showlegend\":true,\"x\":[-0.13931266963481903],\"y\":[0.3495923578739166],\"z\":[0.04923771321773529],\"type\":\"scatter3d\"},{\"hovertemplate\":\"color=to\\u003cbr\\u003e0=%{x}\\u003cbr\\u003e1=%{y}\\u003cbr\\u003e2=%{z}\\u003cextra\\u003e\\u003c\\u002fextra\\u003e\",\"legendgroup\":\"to\",\"marker\":{\"color\":\"#00cc96\",\"symbol\":\"circle\"},\"mode\":\"markers\",\"name\":\"to\",\"scene\":\"scene\",\"showlegend\":true,\"x\":[0.29816940426826477],\"y\":[0.5739975571632385],\"z\":[0.20711876451969147],\"type\":\"scatter3d\"},{\"hovertemplate\":\"color=of\\u003cbr\\u003e0=%{x}\\u003cbr\\u003e1=%{y}\\u003cbr\\u003e2=%{z}\\u003cextra\\u003e\\u003c\\u002fextra\\u003e\",\"legendgroup\":\"of\",\"marker\":{\"color\":\"#ab63fa\",\"symbol\":\"circle\"},\"mode\":\"markers\",\"name\":\"of\",\"scene\":\"scene\",\"showlegend\":true,\"x\":[0.0014874059706926346],\"y\":[0.36951854825019836],\"z\":[-0.11343590170145035],\"type\":\"scatter3d\"},{\"hovertemplate\":\"color=he\\u003cbr\\u003e0=%{x}\\u003cbr\\u003e1=%{y}\\u003cbr\\u003e2=%{z}\\u003cextra\\u003e\\u003c\\u002fextra\\u003e\",\"legendgroup\":\"he\",\"marker\":{\"color\":\"#FFA15A\",\"symbol\":\"circle\"},\"mode\":\"markers\",\"name\":\"he\",\"scene\":\"scene\",\"showlegend\":true,\"x\":[0.13866639137268066],\"y\":[0.5477668046951294],\"z\":[0.2936495840549469],\"type\":\"scatter3d\"},{\"hovertemplate\":\"color=his\\u003cbr\\u003e0=%{x}\\u003cbr\\u003e1=%{y}\\u003cbr\\u003e2=%{z}\\u003cextra\\u003e\\u003c\\u002fextra\\u003e\",\"legendgroup\":\"his\",\"marker\":{\"color\":\"#19d3f3\",\"symbol\":\"circle\"},\"mode\":\"markers\",\"name\":\"his\",\"scene\":\"scene\",\"showlegend\":true,\"x\":[-0.03928349167108536],\"y\":[0.30717527866363525],\"z\":[0.35247814655303955],\"type\":\"scatter3d\"},{\"hovertemplate\":\"color=was\\u003cbr\\u003e0=%{x}\\u003cbr\\u003e1=%{y}\\u003cbr\\u003e2=%{z}\\u003cextra\\u003e\\u003c\\u002fextra\\u003e\",\"legendgroup\":\"was\",\"marker\":{\"color\":\"#FF6692\",\"symbol\":\"circle\"},\"mode\":\"markers\",\"name\":\"was\",\"scene\":\"scene\",\"showlegend\":true,\"x\":[0.1202784925699234],\"y\":[0.38434725999832153],\"z\":[0.31020259857177734],\"type\":\"scatter3d\"},{\"hovertemplate\":\"color=you\\u003cbr\\u003e0=%{x}\\u003cbr\\u003e1=%{y}\\u003cbr\\u003e2=%{z}\\u003cextra\\u003e\\u003c\\u002fextra\\u003e\",\"legendgroup\":\"you\",\"marker\":{\"color\":\"#B6E880\",\"symbol\":\"circle\"},\"mode\":\"markers\",\"name\":\"you\",\"scene\":\"scene\",\"showlegend\":true,\"x\":[0.5554275512695312],\"y\":[0.6097370386123657],\"z\":[0.15779156982898712],\"type\":\"scatter3d\"},{\"hovertemplate\":\"color=her\\u003cbr\\u003e0=%{x}\\u003cbr\\u003e1=%{y}\\u003cbr\\u003e2=%{z}\\u003cextra\\u003e\\u003c\\u002fextra\\u003e\",\"legendgroup\":\"her\",\"marker\":{\"color\":\"#FF97FF\",\"symbol\":\"circle\"},\"mode\":\"markers\",\"name\":\"her\",\"scene\":\"scene\",\"showlegend\":true,\"x\":[0.005762244574725628],\"y\":[0.40338292717933655],\"z\":[0.3600935637950897],\"type\":\"scatter3d\"},{\"hovertemplate\":\"color=in\\u003cbr\\u003e0=%{x}\\u003cbr\\u003e1=%{y}\\u003cbr\\u003e2=%{z}\\u003cextra\\u003e\\u003c\\u002fextra\\u003e\",\"legendgroup\":\"in\",\"marker\":{\"color\":\"#FECB52\",\"symbol\":\"circle\"},\"mode\":\"markers\",\"name\":\"in\",\"scene\":\"scene\",\"showlegend\":true,\"x\":[-0.08731476962566376],\"y\":[0.431221604347229],\"z\":[0.05418018996715546],\"type\":\"scatter3d\"},{\"hovertemplate\":\"color=it\\u003cbr\\u003e0=%{x}\\u003cbr\\u003e1=%{y}\\u003cbr\\u003e2=%{z}\\u003cextra\\u003e\\u003c\\u002fextra\\u003e\",\"legendgroup\":\"it\",\"marker\":{\"color\":\"#636efa\",\"symbol\":\"circle\"},\"mode\":\"markers\",\"name\":\"it\",\"scene\":\"scene\",\"showlegend\":true,\"x\":[0.10288862884044647],\"y\":[0.6161196231842041],\"z\":[0.2506316006183624],\"type\":\"scatter3d\"},{\"hovertemplate\":\"color=had\\u003cbr\\u003e0=%{x}\\u003cbr\\u003e1=%{y}\\u003cbr\\u003e2=%{z}\\u003cextra\\u003e\\u003c\\u002fextra\\u003e\",\"legendgroup\":\"had\",\"marker\":{\"color\":\"#EF553B\",\"symbol\":\"circle\"},\"mode\":\"markers\",\"name\":\"had\",\"scene\":\"scene\",\"showlegend\":true,\"x\":[0.14562153816223145],\"y\":[0.5044052600860596],\"z\":[0.1657784879207611],\"type\":\"scatter3d\"},{\"hovertemplate\":\"color=that\\u003cbr\\u003e0=%{x}\\u003cbr\\u003e1=%{y}\\u003cbr\\u003e2=%{z}\\u003cextra\\u003e\\u003c\\u002fextra\\u003e\",\"legendgroup\":\"that\",\"marker\":{\"color\":\"#00cc96\",\"symbol\":\"circle\"},\"mode\":\"markers\",\"name\":\"that\",\"scene\":\"scene\",\"showlegend\":true,\"x\":[0.31421735882759094],\"y\":[0.6057549118995667],\"z\":[0.09851109236478806],\"type\":\"scatter3d\"},{\"hovertemplate\":\"color=she\\u003cbr\\u003e0=%{x}\\u003cbr\\u003e1=%{y}\\u003cbr\\u003e2=%{z}\\u003cextra\\u003e\\u003c\\u002fextra\\u003e\",\"legendgroup\":\"she\",\"marker\":{\"color\":\"#ab63fa\",\"symbol\":\"circle\"},\"mode\":\"markers\",\"name\":\"she\",\"scene\":\"scene\",\"showlegend\":true,\"x\":[0.10086838901042938],\"y\":[0.5209426283836365],\"z\":[0.31061434745788574],\"type\":\"scatter3d\"},{\"hovertemplate\":\"color=as\\u003cbr\\u003e0=%{x}\\u003cbr\\u003e1=%{y}\\u003cbr\\u003e2=%{z}\\u003cextra\\u003e\\u003c\\u002fextra\\u003e\",\"legendgroup\":\"as\",\"marker\":{\"color\":\"#FFA15A\",\"symbol\":\"circle\"},\"mode\":\"markers\",\"name\":\"as\",\"scene\":\"scene\",\"showlegend\":true,\"x\":[0.03618992120027542],\"y\":[0.4681154489517212],\"z\":[0.2463744431734085],\"type\":\"scatter3d\"},{\"hovertemplate\":\"color=with\\u003cbr\\u003e0=%{x}\\u003cbr\\u003e1=%{y}\\u003cbr\\u003e2=%{z}\\u003cextra\\u003e\\u003c\\u002fextra\\u003e\",\"legendgroup\":\"with\",\"marker\":{\"color\":\"#19d3f3\",\"symbol\":\"circle\"},\"mode\":\"markers\",\"name\":\"with\",\"scene\":\"scene\",\"showlegend\":true,\"x\":[-0.11689267307519913],\"y\":[0.2955074906349182],\"z\":[0.209108367562294],\"type\":\"scatter3d\"},{\"hovertemplate\":\"color=him\\u003cbr\\u003e0=%{x}\\u003cbr\\u003e1=%{y}\\u003cbr\\u003e2=%{z}\\u003cextra\\u003e\\u003c\\u002fextra\\u003e\",\"legendgroup\":\"him\",\"marker\":{\"color\":\"#FF6692\",\"symbol\":\"circle\"},\"mode\":\"markers\",\"name\":\"him\",\"scene\":\"scene\",\"showlegend\":true,\"x\":[0.1652970016002655],\"y\":[0.5396639704704285],\"z\":[0.3079764246940613],\"type\":\"scatter3d\"},{\"hovertemplate\":\"color=not\\u003cbr\\u003e0=%{x}\\u003cbr\\u003e1=%{y}\\u003cbr\\u003e2=%{z}\\u003cextra\\u003e\\u003c\\u002fextra\\u003e\",\"legendgroup\":\"not\",\"marker\":{\"color\":\"#B6E880\",\"symbol\":\"circle\"},\"mode\":\"markers\",\"name\":\"not\",\"scene\":\"scene\",\"showlegend\":true,\"x\":[0.4899662435054779],\"y\":[0.5626018047332764],\"z\":[0.2031557559967041],\"type\":\"scatter3d\"},{\"hovertemplate\":\"color=but\\u003cbr\\u003e0=%{x}\\u003cbr\\u003e1=%{y}\\u003cbr\\u003e2=%{z}\\u003cextra\\u003e\\u003c\\u002fextra\\u003e\",\"legendgroup\":\"but\",\"marker\":{\"color\":\"#FF97FF\",\"symbol\":\"circle\"},\"mode\":\"markers\",\"name\":\"but\",\"scene\":\"scene\",\"showlegend\":true,\"x\":[0.24603882431983948],\"y\":[0.5857585668563843],\"z\":[0.19934293627738953],\"type\":\"scatter3d\"},{\"hovertemplate\":\"color=for\\u003cbr\\u003e0=%{x}\\u003cbr\\u003e1=%{y}\\u003cbr\\u003e2=%{z}\\u003cextra\\u003e\\u003c\\u002fextra\\u003e\",\"legendgroup\":\"for\",\"marker\":{\"color\":\"#FECB52\",\"symbol\":\"circle\"},\"mode\":\"markers\",\"name\":\"for\",\"scene\":\"scene\",\"showlegend\":true,\"x\":[0.46599483489990234],\"y\":[0.5028097033500671],\"z\":[0.1632504016160965],\"type\":\"scatter3d\"},{\"hovertemplate\":\"color=they\\u003cbr\\u003e0=%{x}\\u003cbr\\u003e1=%{y}\\u003cbr\\u003e2=%{z}\\u003cextra\\u003e\\u003c\\u002fextra\\u003e\",\"legendgroup\":\"they\",\"marker\":{\"color\":\"#636efa\",\"symbol\":\"circle\"},\"mode\":\"markers\",\"name\":\"they\",\"scene\":\"scene\",\"showlegend\":true,\"x\":[0.047382839024066925],\"y\":[0.6994140148162842],\"z\":[-0.07128366082906723],\"type\":\"scatter3d\"},{\"hovertemplate\":\"color=is\\u003cbr\\u003e0=%{x}\\u003cbr\\u003e1=%{y}\\u003cbr\\u003e2=%{z}\\u003cextra\\u003e\\u003c\\u002fextra\\u003e\",\"legendgroup\":\"is\",\"marker\":{\"color\":\"#EF553B\",\"symbol\":\"circle\"},\"mode\":\"markers\",\"name\":\"is\",\"scene\":\"scene\",\"showlegend\":true,\"x\":[0.5799434781074524],\"y\":[0.4767143130302429],\"z\":[0.14902131259441376],\"type\":\"scatter3d\"},{\"hovertemplate\":\"color=at\\u003cbr\\u003e0=%{x}\\u003cbr\\u003e1=%{y}\\u003cbr\\u003e2=%{z}\\u003cextra\\u003e\\u003c\\u002fextra\\u003e\",\"legendgroup\":\"at\",\"marker\":{\"color\":\"#00cc96\",\"symbol\":\"circle\"},\"mode\":\"markers\",\"name\":\"at\",\"scene\":\"scene\",\"showlegend\":true,\"x\":[0.049570947885513306],\"y\":[0.3966684639453888],\"z\":[0.31451308727264404],\"type\":\"scatter3d\"},{\"hovertemplate\":\"color=on\\u003cbr\\u003e0=%{x}\\u003cbr\\u003e1=%{y}\\u003cbr\\u003e2=%{z}\\u003cextra\\u003e\\u003c\\u002fextra\\u003e\",\"legendgroup\":\"on\",\"marker\":{\"color\":\"#ab63fa\",\"symbol\":\"circle\"},\"mode\":\"markers\",\"name\":\"on\",\"scene\":\"scene\",\"showlegend\":true,\"x\":[-0.19556158781051636],\"y\":[0.4453921914100647],\"z\":[0.24087855219841003],\"type\":\"scatter3d\"},{\"hovertemplate\":\"color=said\\u003cbr\\u003e0=%{x}\\u003cbr\\u003e1=%{y}\\u003cbr\\u003e2=%{z}\\u003cextra\\u003e\\u003c\\u002fextra\\u003e\",\"legendgroup\":\"said\",\"marker\":{\"color\":\"#FFA15A\",\"symbol\":\"circle\"},\"mode\":\"markers\",\"name\":\"said\",\"scene\":\"scene\",\"showlegend\":true,\"x\":[0.5682994723320007],\"y\":[0.43617334961891174],\"z\":[0.4835328161716461],\"type\":\"scatter3d\"},{\"hovertemplate\":\"color=my\\u003cbr\\u003e0=%{x}\\u003cbr\\u003e1=%{y}\\u003cbr\\u003e2=%{z}\\u003cextra\\u003e\\u003c\\u002fextra\\u003e\",\"legendgroup\":\"my\",\"marker\":{\"color\":\"#19d3f3\",\"symbol\":\"circle\"},\"mode\":\"markers\",\"name\":\"my\",\"scene\":\"scene\",\"showlegend\":true,\"x\":[0.4858323633670807],\"y\":[0.4928354024887085],\"z\":[0.17821471393108368],\"type\":\"scatter3d\"},{\"hovertemplate\":\"color=have\\u003cbr\\u003e0=%{x}\\u003cbr\\u003e1=%{y}\\u003cbr\\u003e2=%{z}\\u003cextra\\u003e\\u003c\\u002fextra\\u003e\",\"legendgroup\":\"have\",\"marker\":{\"color\":\"#FF6692\",\"symbol\":\"circle\"},\"mode\":\"markers\",\"name\":\"have\",\"scene\":\"scene\",\"showlegend\":true,\"x\":[0.41265547275543213],\"y\":[0.6151193380355835],\"z\":[0.13423141837120056],\"type\":\"scatter3d\"},{\"hovertemplate\":\"color=be\\u003cbr\\u003e0=%{x}\\u003cbr\\u003e1=%{y}\\u003cbr\\u003e2=%{z}\\u003cextra\\u003e\\u003c\\u002fextra\\u003e\",\"legendgroup\":\"be\",\"marker\":{\"color\":\"#B6E880\",\"symbol\":\"circle\"},\"mode\":\"markers\",\"name\":\"be\",\"scene\":\"scene\",\"showlegend\":true,\"x\":[0.398343026638031],\"y\":[0.6483334302902222],\"z\":[0.12621386349201202],\"type\":\"scatter3d\"},{\"hovertemplate\":\"color=lord\\u003cbr\\u003e0=%{x}\\u003cbr\\u003e1=%{y}\\u003cbr\\u003e2=%{z}\\u003cextra\\u003e\\u003c\\u002fextra\\u003e\",\"legendgroup\":\"lord\",\"marker\":{\"color\":\"#FF97FF\",\"symbol\":\"circle\"},\"mode\":\"markers\",\"name\":\"lord\",\"scene\":\"scene\",\"showlegend\":true,\"x\":[0.4675334095954895],\"y\":[0.45209380984306335],\"z\":[0.08508015424013138],\"type\":\"scatter3d\"},{\"hovertemplate\":\"color=them\\u003cbr\\u003e0=%{x}\\u003cbr\\u003e1=%{y}\\u003cbr\\u003e2=%{z}\\u003cextra\\u003e\\u003c\\u002fextra\\u003e\",\"legendgroup\":\"them\",\"marker\":{\"color\":\"#FECB52\",\"symbol\":\"circle\"},\"mode\":\"markers\",\"name\":\"them\",\"scene\":\"scene\",\"showlegend\":true,\"x\":[0.017860455438494682],\"y\":[0.7124499082565308],\"z\":[-0.012731991708278656],\"type\":\"scatter3d\"},{\"hovertemplate\":\"color=no\\u003cbr\\u003e0=%{x}\\u003cbr\\u003e1=%{y}\\u003cbr\\u003e2=%{z}\\u003cextra\\u003e\\u003c\\u002fextra\\u003e\",\"legendgroup\":\"no\",\"marker\":{\"color\":\"#636efa\",\"symbol\":\"circle\"},\"mode\":\"markers\",\"name\":\"no\",\"scene\":\"scene\",\"showlegend\":true,\"x\":[0.39400193095207214],\"y\":[0.5418260097503662],\"z\":[0.07530418783426285],\"type\":\"scatter3d\"},{\"hovertemplate\":\"color=from\\u003cbr\\u003e0=%{x}\\u003cbr\\u003e1=%{y}\\u003cbr\\u003e2=%{z}\\u003cextra\\u003e\\u003c\\u002fextra\\u003e\",\"legendgroup\":\"from\",\"marker\":{\"color\":\"#EF553B\",\"symbol\":\"circle\"},\"mode\":\"markers\",\"name\":\"from\",\"scene\":\"scene\",\"showlegend\":true,\"x\":[-0.1864495426416397],\"y\":[0.42483875155448914],\"z\":[0.1541871428489685],\"type\":\"scatter3d\"},{\"hovertemplate\":\"color=would\\u003cbr\\u003e0=%{x}\\u003cbr\\u003e1=%{y}\\u003cbr\\u003e2=%{z}\\u003cextra\\u003e\\u003c\\u002fextra\\u003e\",\"legendgroup\":\"would\",\"marker\":{\"color\":\"#00cc96\",\"symbol\":\"circle\"},\"mode\":\"markers\",\"name\":\"would\",\"scene\":\"scene\",\"showlegend\":true,\"x\":[0.42145875096321106],\"y\":[0.5511804223060608],\"z\":[0.21439972519874573],\"type\":\"scatter3d\"},{\"hovertemplate\":\"color=were\\u003cbr\\u003e0=%{x}\\u003cbr\\u003e1=%{y}\\u003cbr\\u003e2=%{z}\\u003cextra\\u003e\\u003c\\u002fextra\\u003e\",\"legendgroup\":\"were\",\"marker\":{\"color\":\"#ab63fa\",\"symbol\":\"circle\"},\"mode\":\"markers\",\"name\":\"were\",\"scene\":\"scene\",\"showlegend\":true,\"x\":[-0.01526099443435669],\"y\":[0.48900288343429565],\"z\":[0.02211250737309456],\"type\":\"scatter3d\"},{\"hovertemplate\":\"color=me\\u003cbr\\u003e0=%{x}\\u003cbr\\u003e1=%{y}\\u003cbr\\u003e2=%{z}\\u003cextra\\u003e\\u003c\\u002fextra\\u003e\",\"legendgroup\":\"me\",\"marker\":{\"color\":\"#FFA15A\",\"symbol\":\"circle\"},\"mode\":\"markers\",\"name\":\"me\",\"scene\":\"scene\",\"showlegend\":true,\"x\":[0.517353892326355],\"y\":[0.5780931711196899],\"z\":[0.18521614372730255],\"type\":\"scatter3d\"},{\"hovertemplate\":\"color=your\\u003cbr\\u003e0=%{x}\\u003cbr\\u003e1=%{y}\\u003cbr\\u003e2=%{z}\\u003cextra\\u003e\\u003c\\u002fextra\\u003e\",\"legendgroup\":\"your\",\"marker\":{\"color\":\"#19d3f3\",\"symbol\":\"circle\"},\"mode\":\"markers\",\"name\":\"your\",\"scene\":\"scene\",\"showlegend\":true,\"x\":[0.45491480827331543],\"y\":[0.48450589179992676],\"z\":[0.17515896260738373],\"type\":\"scatter3d\"},{\"hovertemplate\":\"color=one\\u003cbr\\u003e0=%{x}\\u003cbr\\u003e1=%{y}\\u003cbr\\u003e2=%{z}\\u003cextra\\u003e\\u003c\\u002fextra\\u003e\",\"legendgroup\":\"one\",\"marker\":{\"color\":\"#FF6692\",\"symbol\":\"circle\"},\"mode\":\"markers\",\"name\":\"one\",\"scene\":\"scene\",\"showlegend\":true,\"x\":[0.05843628942966461],\"y\":[0.6062077879905701],\"z\":[0.1577257215976715],\"type\":\"scatter3d\"},{\"hovertemplate\":\"color=all\\u003cbr\\u003e0=%{x}\\u003cbr\\u003e1=%{y}\\u003cbr\\u003e2=%{z}\\u003cextra\\u003e\\u003c\\u002fextra\\u003e\",\"legendgroup\":\"all\",\"marker\":{\"color\":\"#B6E880\",\"symbol\":\"circle\"},\"mode\":\"markers\",\"name\":\"all\",\"scene\":\"scene\",\"showlegend\":true,\"x\":[0.2248227596282959],\"y\":[0.7076056003570557],\"z\":[-0.0077999490313231945],\"type\":\"scatter3d\"},{\"hovertemplate\":\"color=when\\u003cbr\\u003e0=%{x}\\u003cbr\\u003e1=%{y}\\u003cbr\\u003e2=%{z}\\u003cextra\\u003e\\u003c\\u002fextra\\u003e\",\"legendgroup\":\"when\",\"marker\":{\"color\":\"#FF97FF\",\"symbol\":\"circle\"},\"mode\":\"markers\",\"name\":\"when\",\"scene\":\"scene\",\"showlegend\":true,\"x\":[0.12535393238067627],\"y\":[0.5568259358406067],\"z\":[0.2948937714099884],\"type\":\"scatter3d\"},{\"hovertemplate\":\"color=will\\u003cbr\\u003e0=%{x}\\u003cbr\\u003e1=%{y}\\u003cbr\\u003e2=%{z}\\u003cextra\\u003e\\u003c\\u002fextra\\u003e\",\"legendgroup\":\"will\",\"marker\":{\"color\":\"#FECB52\",\"symbol\":\"circle\"},\"mode\":\"markers\",\"name\":\"will\",\"scene\":\"scene\",\"showlegend\":true,\"x\":[0.5028120279312134],\"y\":[0.5456283092498779],\"z\":[0.1636468917131424],\"type\":\"scatter3d\"},{\"hovertemplate\":\"color=ser\\u003cbr\\u003e0=%{x}\\u003cbr\\u003e1=%{y}\\u003cbr\\u003e2=%{z}\\u003cextra\\u003e\\u003c\\u002fextra\\u003e\",\"legendgroup\":\"ser\",\"marker\":{\"color\":\"#636efa\",\"symbol\":\"circle\"},\"mode\":\"markers\",\"name\":\"ser\",\"scene\":\"scene\",\"showlegend\":true,\"x\":[0.37787723541259766],\"y\":[0.29135778546333313],\"z\":[0.16268976032733917],\"type\":\"scatter3d\"},{\"hovertemplate\":\"color=if\\u003cbr\\u003e0=%{x}\\u003cbr\\u003e1=%{y}\\u003cbr\\u003e2=%{z}\\u003cextra\\u003e\\u003c\\u002fextra\\u003e\",\"legendgroup\":\"if\",\"marker\":{\"color\":\"#EF553B\",\"symbol\":\"circle\"},\"mode\":\"markers\",\"name\":\"if\",\"scene\":\"scene\",\"showlegend\":true,\"x\":[0.4138024151325226],\"y\":[0.6472453474998474],\"z\":[0.27849265933036804],\"type\":\"scatter3d\"},{\"hovertemplate\":\"color=so\\u003cbr\\u003e0=%{x}\\u003cbr\\u003e1=%{y}\\u003cbr\\u003e2=%{z}\\u003cextra\\u003e\\u003c\\u002fextra\\u003e\",\"legendgroup\":\"so\",\"marker\":{\"color\":\"#00cc96\",\"symbol\":\"circle\"},\"mode\":\"markers\",\"name\":\"so\",\"scene\":\"scene\",\"showlegend\":true,\"x\":[0.1851014941930771],\"y\":[0.5387576222419739],\"z\":[0.2804024815559387],\"type\":\"scatter3d\"},{\"hovertemplate\":\"color=their\\u003cbr\\u003e0=%{x}\\u003cbr\\u003e1=%{y}\\u003cbr\\u003e2=%{z}\\u003cextra\\u003e\\u003c\\u002fextra\\u003e\",\"legendgroup\":\"their\",\"marker\":{\"color\":\"#ab63fa\",\"symbol\":\"circle\"},\"mode\":\"markers\",\"name\":\"their\",\"scene\":\"scene\",\"showlegend\":true,\"x\":[-0.06526682525873184],\"y\":[0.5312574505805969],\"z\":[-0.18529042601585388],\"type\":\"scatter3d\"},{\"hovertemplate\":\"color=we\\u003cbr\\u003e0=%{x}\\u003cbr\\u003e1=%{y}\\u003cbr\\u003e2=%{z}\\u003cextra\\u003e\\u003c\\u002fextra\\u003e\",\"legendgroup\":\"we\",\"marker\":{\"color\":\"#FFA15A\",\"symbol\":\"circle\"},\"mode\":\"markers\",\"name\":\"we\",\"scene\":\"scene\",\"showlegend\":true,\"x\":[0.3783388137817383],\"y\":[0.7481043934822083],\"z\":[-0.022011756896972656],\"type\":\"scatter3d\"},{\"hovertemplate\":\"color=could\\u003cbr\\u003e0=%{x}\\u003cbr\\u003e1=%{y}\\u003cbr\\u003e2=%{z}\\u003cextra\\u003e\\u003c\\u002fextra\\u003e\",\"legendgroup\":\"could\",\"marker\":{\"color\":\"#19d3f3\",\"symbol\":\"circle\"},\"mode\":\"markers\",\"name\":\"could\",\"scene\":\"scene\",\"showlegend\":true,\"x\":[0.12097062915563583],\"y\":[0.4886973798274994],\"z\":[0.2573314309120178],\"type\":\"scatter3d\"},{\"hovertemplate\":\"color=are\\u003cbr\\u003e0=%{x}\\u003cbr\\u003e1=%{y}\\u003cbr\\u003e2=%{z}\\u003cextra\\u003e\\u003c\\u002fextra\\u003e\",\"legendgroup\":\"are\",\"marker\":{\"color\":\"#FF6692\",\"symbol\":\"circle\"},\"mode\":\"markers\",\"name\":\"are\",\"scene\":\"scene\",\"showlegend\":true,\"x\":[0.42394647002220154],\"y\":[0.5165732502937317],\"z\":[-0.025901680812239647],\"type\":\"scatter3d\"},{\"hovertemplate\":\"color=man\\u003cbr\\u003e0=%{x}\\u003cbr\\u003e1=%{y}\\u003cbr\\u003e2=%{z}\\u003cextra\\u003e\\u003c\\u002fextra\\u003e\",\"legendgroup\":\"man\",\"marker\":{\"color\":\"#B6E880\",\"symbol\":\"circle\"},\"mode\":\"markers\",\"name\":\"man\",\"scene\":\"scene\",\"showlegend\":true,\"x\":[0.13471582531929016],\"y\":[0.5167626738548279],\"z\":[0.17347247898578644],\"type\":\"scatter3d\"},{\"hovertemplate\":\"color=there\\u003cbr\\u003e0=%{x}\\u003cbr\\u003e1=%{y}\\u003cbr\\u003e2=%{z}\\u003cextra\\u003e\\u003c\\u002fextra\\u003e\",\"legendgroup\":\"there\",\"marker\":{\"color\":\"#FF97FF\",\"symbol\":\"circle\"},\"mode\":\"markers\",\"name\":\"there\",\"scene\":\"scene\",\"showlegend\":true,\"x\":[0.09470463544130325],\"y\":[0.6199578642845154],\"z\":[0.0029908802825957537],\"type\":\"scatter3d\"},{\"hovertemplate\":\"color=this\\u003cbr\\u003e0=%{x}\\u003cbr\\u003e1=%{y}\\u003cbr\\u003e2=%{z}\\u003cextra\\u003e\\u003c\\u002fextra\\u003e\",\"legendgroup\":\"this\",\"marker\":{\"color\":\"#FECB52\",\"symbol\":\"circle\"},\"mode\":\"markers\",\"name\":\"this\",\"scene\":\"scene\",\"showlegend\":true,\"x\":[0.43771567940711975],\"y\":[0.6185658574104309],\"z\":[0.09020229429006577],\"type\":\"scatter3d\"},{\"hovertemplate\":\"color=up\\u003cbr\\u003e0=%{x}\\u003cbr\\u003e1=%{y}\\u003cbr\\u003e2=%{z}\\u003cextra\\u003e\\u003c\\u002fextra\\u003e\",\"legendgroup\":\"up\",\"marker\":{\"color\":\"#636efa\",\"symbol\":\"circle\"},\"mode\":\"markers\",\"name\":\"up\",\"scene\":\"scene\",\"showlegend\":true,\"x\":[-0.38880935311317444],\"y\":[0.5721964836120605],\"z\":[0.3185074031352997],\"type\":\"scatter3d\"},{\"hovertemplate\":\"color=been\\u003cbr\\u003e0=%{x}\\u003cbr\\u003e1=%{y}\\u003cbr\\u003e2=%{z}\\u003cextra\\u003e\\u003c\\u002fextra\\u003e\",\"legendgroup\":\"been\",\"marker\":{\"color\":\"#EF553B\",\"symbol\":\"circle\"},\"mode\":\"markers\",\"name\":\"been\",\"scene\":\"scene\",\"showlegend\":true,\"x\":[0.17964616417884827],\"y\":[0.5153328776359558],\"z\":[0.14182892441749573],\"type\":\"scatter3d\"},{\"hovertemplate\":\"color=what\\u003cbr\\u003e0=%{x}\\u003cbr\\u003e1=%{y}\\u003cbr\\u003e2=%{z}\\u003cextra\\u003e\\u003c\\u002fextra\\u003e\",\"legendgroup\":\"what\",\"marker\":{\"color\":\"#00cc96\",\"symbol\":\"circle\"},\"mode\":\"markers\",\"name\":\"what\",\"scene\":\"scene\",\"showlegend\":true,\"x\":[0.40960732102394104],\"y\":[0.596912682056427],\"z\":[0.09463465958833694],\"type\":\"scatter3d\"},{\"hovertemplate\":\"color=did\\u003cbr\\u003e0=%{x}\\u003cbr\\u003e1=%{y}\\u003cbr\\u003e2=%{z}\\u003cextra\\u003e\\u003c\\u002fextra\\u003e\",\"legendgroup\":\"did\",\"marker\":{\"color\":\"#ab63fa\",\"symbol\":\"circle\"},\"mode\":\"markers\",\"name\":\"did\",\"scene\":\"scene\",\"showlegend\":true,\"x\":[0.3838805854320526],\"y\":[0.4307928681373596],\"z\":[0.36315685510635376],\"type\":\"scatter3d\"},{\"hovertemplate\":\"color=by\\u003cbr\\u003e0=%{x}\\u003cbr\\u003e1=%{y}\\u003cbr\\u003e2=%{z}\\u003cextra\\u003e\\u003c\\u002fextra\\u003e\",\"legendgroup\":\"by\",\"marker\":{\"color\":\"#FFA15A\",\"symbol\":\"circle\"},\"mode\":\"markers\",\"name\":\"by\",\"scene\":\"scene\",\"showlegend\":true,\"x\":[0.006736270152032375],\"y\":[0.4616139531135559],\"z\":[0.02615826204419136],\"type\":\"scatter3d\"},{\"hovertemplate\":\"color=king\\u003cbr\\u003e0=%{x}\\u003cbr\\u003e1=%{y}\\u003cbr\\u003e2=%{z}\\u003cextra\\u003e\\u003c\\u002fextra\\u003e\",\"legendgroup\":\"king\",\"marker\":{\"color\":\"#19d3f3\",\"symbol\":\"circle\"},\"mode\":\"markers\",\"name\":\"king\",\"scene\":\"scene\",\"showlegend\":true,\"x\":[0.3836155831813812],\"y\":[0.669589638710022],\"z\":[0.04765753075480461],\"type\":\"scatter3d\"},{\"hovertemplate\":\"color=do\\u003cbr\\u003e0=%{x}\\u003cbr\\u003e1=%{y}\\u003cbr\\u003e2=%{z}\\u003cextra\\u003e\\u003c\\u002fextra\\u003e\",\"legendgroup\":\"do\",\"marker\":{\"color\":\"#FF6692\",\"symbol\":\"circle\"},\"mode\":\"markers\",\"name\":\"do\",\"scene\":\"scene\",\"showlegend\":true,\"x\":[0.5541980862617493],\"y\":[0.5142483115196228],\"z\":[0.25731950998306274],\"type\":\"scatter3d\"},{\"hovertemplate\":\"color=men\\u003cbr\\u003e0=%{x}\\u003cbr\\u003e1=%{y}\\u003cbr\\u003e2=%{z}\\u003cextra\\u003e\\u003c\\u002fextra\\u003e\",\"legendgroup\":\"men\",\"marker\":{\"color\":\"#B6E880\",\"symbol\":\"circle\"},\"mode\":\"markers\",\"name\":\"men\",\"scene\":\"scene\",\"showlegend\":true,\"x\":[0.10263267159461975],\"y\":[0.7722641825675964],\"z\":[-0.2297009378671646],\"type\":\"scatter3d\"},{\"hovertemplate\":\"color=back\\u003cbr\\u003e0=%{x}\\u003cbr\\u003e1=%{y}\\u003cbr\\u003e2=%{z}\\u003cextra\\u003e\\u003c\\u002fextra\\u003e\",\"legendgroup\":\"back\",\"marker\":{\"color\":\"#FF97FF\",\"symbol\":\"circle\"},\"mode\":\"markers\",\"name\":\"back\",\"scene\":\"scene\",\"showlegend\":true,\"x\":[-0.1753954142332077],\"y\":[0.617058515548706],\"z\":[0.4533768892288208],\"type\":\"scatter3d\"},{\"hovertemplate\":\"color=out\\u003cbr\\u003e0=%{x}\\u003cbr\\u003e1=%{y}\\u003cbr\\u003e2=%{z}\\u003cextra\\u003e\\u003c\\u002fextra\\u003e\",\"legendgroup\":\"out\",\"marker\":{\"color\":\"#FECB52\",\"symbol\":\"circle\"},\"mode\":\"markers\",\"name\":\"out\",\"scene\":\"scene\",\"showlegend\":true,\"x\":[-0.22793573141098022],\"y\":[0.5562803149223328],\"z\":[0.31437578797340393],\"type\":\"scatter3d\"},{\"hovertemplate\":\"color=more\\u003cbr\\u003e0=%{x}\\u003cbr\\u003e1=%{y}\\u003cbr\\u003e2=%{z}\\u003cextra\\u003e\\u003c\\u002fextra\\u003e\",\"legendgroup\":\"more\",\"marker\":{\"color\":\"#636efa\",\"symbol\":\"circle\"},\"mode\":\"markers\",\"name\":\"more\",\"scene\":\"scene\",\"showlegend\":true,\"x\":[0.25735655426979065],\"y\":[0.559834897518158],\"z\":[0.01712648570537567],\"type\":\"scatter3d\"},{\"hovertemplate\":\"color=or\\u003cbr\\u003e0=%{x}\\u003cbr\\u003e1=%{y}\\u003cbr\\u003e2=%{z}\\u003cextra\\u003e\\u003c\\u002fextra\\u003e\",\"legendgroup\":\"or\",\"marker\":{\"color\":\"#EF553B\",\"symbol\":\"circle\"},\"mode\":\"markers\",\"name\":\"or\",\"scene\":\"scene\",\"showlegend\":true,\"x\":[0.3639068305492401],\"y\":[0.5663254857063293],\"z\":[0.061780840158462524],\"type\":\"scatter3d\"},{\"hovertemplate\":\"color=who\\u003cbr\\u003e0=%{x}\\u003cbr\\u003e1=%{y}\\u003cbr\\u003e2=%{z}\\u003cextra\\u003e\\u003c\\u002fextra\\u003e\",\"legendgroup\":\"who\",\"marker\":{\"color\":\"#00cc96\",\"symbol\":\"circle\"},\"mode\":\"markers\",\"name\":\"who\",\"scene\":\"scene\",\"showlegend\":true,\"x\":[0.4328885078430176],\"y\":[0.5889263153076172],\"z\":[-0.07603149861097336],\"type\":\"scatter3d\"},{\"hovertemplate\":\"color=down\\u003cbr\\u003e0=%{x}\\u003cbr\\u003e1=%{y}\\u003cbr\\u003e2=%{z}\\u003cextra\\u003e\\u003c\\u002fextra\\u003e\",\"legendgroup\":\"down\",\"marker\":{\"color\":\"#ab63fa\",\"symbol\":\"circle\"},\"mode\":\"markers\",\"name\":\"down\",\"scene\":\"scene\",\"showlegend\":true,\"x\":[-0.43441930413246155],\"y\":[0.5841293334960938],\"z\":[0.36962902545928955],\"type\":\"scatter3d\"},{\"hovertemplate\":\"color=well\\u003cbr\\u003e0=%{x}\\u003cbr\\u003e1=%{y}\\u003cbr\\u003e2=%{z}\\u003cextra\\u003e\\u003c\\u002fextra\\u003e\",\"legendgroup\":\"well\",\"marker\":{\"color\":\"#FFA15A\",\"symbol\":\"circle\"},\"mode\":\"markers\",\"name\":\"well\",\"scene\":\"scene\",\"showlegend\":true,\"x\":[0.3456728458404541],\"y\":[0.5975150465965271],\"z\":[0.0647064670920372],\"type\":\"scatter3d\"},{\"hovertemplate\":\"color=than\\u003cbr\\u003e0=%{x}\\u003cbr\\u003e1=%{y}\\u003cbr\\u003e2=%{z}\\u003cextra\\u003e\\u003c\\u002fextra\\u003e\",\"legendgroup\":\"than\",\"marker\":{\"color\":\"#19d3f3\",\"symbol\":\"circle\"},\"mode\":\"markers\",\"name\":\"than\",\"scene\":\"scene\",\"showlegend\":true,\"x\":[0.18815693259239197],\"y\":[0.478232204914093],\"z\":[0.15116283297538757],\"type\":\"scatter3d\"},{\"hovertemplate\":\"color=only\\u003cbr\\u003e0=%{x}\\u003cbr\\u003e1=%{y}\\u003cbr\\u003e2=%{z}\\u003cextra\\u003e\\u003c\\u002fextra\\u003e\",\"legendgroup\":\"only\",\"marker\":{\"color\":\"#FF6692\",\"symbol\":\"circle\"},\"mode\":\"markers\",\"name\":\"only\",\"scene\":\"scene\",\"showlegend\":true,\"x\":[0.30044686794281006],\"y\":[0.5831065773963928],\"z\":[0.06019904464483261],\"type\":\"scatter3d\"},{\"hovertemplate\":\"color=like\\u003cbr\\u003e0=%{x}\\u003cbr\\u003e1=%{y}\\u003cbr\\u003e2=%{z}\\u003cextra\\u003e\\u003c\\u002fextra\\u003e\",\"legendgroup\":\"like\",\"marker\":{\"color\":\"#B6E880\",\"symbol\":\"circle\"},\"mode\":\"markers\",\"name\":\"like\",\"scene\":\"scene\",\"showlegend\":true,\"x\":[-0.05502946674823761],\"y\":[0.3658826947212219],\"z\":[0.22226373851299286],\"type\":\"scatter3d\"},{\"hovertemplate\":\"color=jon\\u003cbr\\u003e0=%{x}\\u003cbr\\u003e1=%{y}\\u003cbr\\u003e2=%{z}\\u003cextra\\u003e\\u003c\\u002fextra\\u003e\",\"legendgroup\":\"jon\",\"marker\":{\"color\":\"#FF97FF\",\"symbol\":\"circle\"},\"mode\":\"markers\",\"name\":\"jon\",\"scene\":\"scene\",\"showlegend\":true,\"x\":[0.09541197121143341],\"y\":[0.41553667187690735],\"z\":[0.2513540983200073],\"type\":\"scatter3d\"},{\"hovertemplate\":\"color=some\\u003cbr\\u003e0=%{x}\\u003cbr\\u003e1=%{y}\\u003cbr\\u003e2=%{z}\\u003cextra\\u003e\\u003c\\u002fextra\\u003e\",\"legendgroup\":\"some\",\"marker\":{\"color\":\"#FECB52\",\"symbol\":\"circle\"},\"mode\":\"markers\",\"name\":\"some\",\"scene\":\"scene\",\"showlegend\":true,\"x\":[0.15526126325130463],\"y\":[0.5444165468215942],\"z\":[-0.13118168711662292],\"type\":\"scatter3d\"},{\"hovertemplate\":\"color=father\\u003cbr\\u003e0=%{x}\\u003cbr\\u003e1=%{y}\\u003cbr\\u003e2=%{z}\\u003cextra\\u003e\\u003c\\u002fextra\\u003e\",\"legendgroup\":\"father\",\"marker\":{\"color\":\"#636efa\",\"symbol\":\"circle\"},\"mode\":\"markers\",\"name\":\"father\",\"scene\":\"scene\",\"showlegend\":true,\"x\":[0.47138169407844543],\"y\":[0.6463692784309387],\"z\":[0.1853027641773224],\"type\":\"scatter3d\"},{\"hovertemplate\":\"color=old\\u003cbr\\u003e0=%{x}\\u003cbr\\u003e1=%{y}\\u003cbr\\u003e2=%{z}\\u003cextra\\u003e\\u003c\\u002fextra\\u003e\",\"legendgroup\":\"old\",\"marker\":{\"color\":\"#EF553B\",\"symbol\":\"circle\"},\"mode\":\"markers\",\"name\":\"old\",\"scene\":\"scene\",\"showlegend\":true,\"x\":[0.174434632062912],\"y\":[0.3942989706993103],\"z\":[-0.005343094002455473],\"type\":\"scatter3d\"},{\"hovertemplate\":\"color=hand\\u003cbr\\u003e0=%{x}\\u003cbr\\u003e1=%{y}\\u003cbr\\u003e2=%{z}\\u003cextra\\u003e\\u003c\\u002fextra\\u003e\",\"legendgroup\":\"hand\",\"marker\":{\"color\":\"#00cc96\",\"symbol\":\"circle\"},\"mode\":\"markers\",\"name\":\"hand\",\"scene\":\"scene\",\"showlegend\":true,\"x\":[-0.01965213380753994],\"y\":[0.514031171798706],\"z\":[0.5141841173171997],\"type\":\"scatter3d\"},{\"hovertemplate\":\"color=even\\u003cbr\\u003e0=%{x}\\u003cbr\\u003e1=%{y}\\u003cbr\\u003e2=%{z}\\u003cextra\\u003e\\u003c\\u002fextra\\u003e\",\"legendgroup\":\"even\",\"marker\":{\"color\":\"#ab63fa\",\"symbol\":\"circle\"},\"mode\":\"markers\",\"name\":\"even\",\"scene\":\"scene\",\"showlegend\":true,\"x\":[0.20620375871658325],\"y\":[0.5361636877059937],\"z\":[0.07330960035324097],\"type\":\"scatter3d\"},{\"hovertemplate\":\"color=too\\u003cbr\\u003e0=%{x}\\u003cbr\\u003e1=%{y}\\u003cbr\\u003e2=%{z}\\u003cextra\\u003e\\u003c\\u002fextra\\u003e\",\"legendgroup\":\"too\",\"marker\":{\"color\":\"#FFA15A\",\"symbol\":\"circle\"},\"mode\":\"markers\",\"name\":\"too\",\"scene\":\"scene\",\"showlegend\":true,\"x\":[0.259932279586792],\"y\":[0.4791724383831024],\"z\":[0.19550688564777374],\"type\":\"scatter3d\"},{\"hovertemplate\":\"color=tyrion\\u003cbr\\u003e0=%{x}\\u003cbr\\u003e1=%{y}\\u003cbr\\u003e2=%{z}\\u003cextra\\u003e\\u003c\\u002fextra\\u003e\",\"legendgroup\":\"tyrion\",\"marker\":{\"color\":\"#19d3f3\",\"symbol\":\"circle\"},\"mode\":\"markers\",\"name\":\"tyrion\",\"scene\":\"scene\",\"showlegend\":true,\"x\":[0.16481450200080872],\"y\":[0.31704726815223694],\"z\":[0.3572254776954651],\"type\":\"scatter3d\"},{\"hovertemplate\":\"color=before\\u003cbr\\u003e0=%{x}\\u003cbr\\u003e1=%{y}\\u003cbr\\u003e2=%{z}\\u003cextra\\u003e\\u003c\\u002fextra\\u003e\",\"legendgroup\":\"before\",\"marker\":{\"color\":\"#FF6692\",\"symbol\":\"circle\"},\"mode\":\"markers\",\"name\":\"before\",\"scene\":\"scene\",\"showlegend\":true,\"x\":[0.12200155854225159],\"y\":[0.6536175012588501],\"z\":[0.24345390498638153],\"type\":\"scatter3d\"},{\"hovertemplate\":\"color=never\\u003cbr\\u003e0=%{x}\\u003cbr\\u003e1=%{y}\\u003cbr\\u003e2=%{z}\\u003cextra\\u003e\\u003c\\u002fextra\\u003e\",\"legendgroup\":\"never\",\"marker\":{\"color\":\"#B6E880\",\"symbol\":\"circle\"},\"mode\":\"markers\",\"name\":\"never\",\"scene\":\"scene\",\"showlegend\":true,\"x\":[0.47921985387802124],\"y\":[0.5702226161956787],\"z\":[0.2231018841266632],\"type\":\"scatter3d\"},{\"hovertemplate\":\"color=an\\u003cbr\\u003e0=%{x}\\u003cbr\\u003e1=%{y}\\u003cbr\\u003e2=%{z}\\u003cextra\\u003e\\u003c\\u002fextra\\u003e\",\"legendgroup\":\"an\",\"marker\":{\"color\":\"#FF97FF\",\"symbol\":\"circle\"},\"mode\":\"markers\",\"name\":\"an\",\"scene\":\"scene\",\"showlegend\":true,\"x\":[0.03363492339849472],\"y\":[0.33895018696784973],\"z\":[0.10265542566776276],\"type\":\"scatter3d\"},{\"hovertemplate\":\"color=off\\u003cbr\\u003e0=%{x}\\u003cbr\\u003e1=%{y}\\u003cbr\\u003e2=%{z}\\u003cextra\\u003e\\u003c\\u002fextra\\u003e\",\"legendgroup\":\"off\",\"marker\":{\"color\":\"#FECB52\",\"symbol\":\"circle\"},\"mode\":\"markers\",\"name\":\"off\",\"scene\":\"scene\",\"showlegend\":true,\"x\":[-0.27719762921333313],\"y\":[0.4209740459918976],\"z\":[0.4116381108760834],\"type\":\"scatter3d\"},{\"hovertemplate\":\"color=see\\u003cbr\\u003e0=%{x}\\u003cbr\\u003e1=%{y}\\u003cbr\\u003e2=%{z}\\u003cextra\\u003e\\u003c\\u002fextra\\u003e\",\"legendgroup\":\"see\",\"marker\":{\"color\":\"#636efa\",\"symbol\":\"circle\"},\"mode\":\"markers\",\"name\":\"see\",\"scene\":\"scene\",\"showlegend\":true,\"x\":[0.2013978362083435],\"y\":[0.6359022855758667],\"z\":[0.36047273874282837],\"type\":\"scatter3d\"},{\"hovertemplate\":\"color=know\\u003cbr\\u003e0=%{x}\\u003cbr\\u003e1=%{y}\\u003cbr\\u003e2=%{z}\\u003cextra\\u003e\\u003c\\u002fextra\\u003e\",\"legendgroup\":\"know\",\"marker\":{\"color\":\"#EF553B\",\"symbol\":\"circle\"},\"mode\":\"markers\",\"name\":\"know\",\"scene\":\"scene\",\"showlegend\":true,\"x\":[0.6049423217773438],\"y\":[0.5428274869918823],\"z\":[0.1852700561285019],\"type\":\"scatter3d\"},{\"hovertemplate\":\"color=into\\u003cbr\\u003e0=%{x}\\u003cbr\\u003e1=%{y}\\u003cbr\\u003e2=%{z}\\u003cextra\\u003e\\u003c\\u002fextra\\u003e\",\"legendgroup\":\"into\",\"marker\":{\"color\":\"#00cc96\",\"symbol\":\"circle\"},\"mode\":\"markers\",\"name\":\"into\",\"scene\":\"scene\",\"showlegend\":true,\"x\":[-0.38946858048439026],\"y\":[0.4042811095714569],\"z\":[0.3788010776042938],\"type\":\"scatter3d\"},{\"hovertemplate\":\"color=made\\u003cbr\\u003e0=%{x}\\u003cbr\\u003e1=%{y}\\u003cbr\\u003e2=%{z}\\u003cextra\\u003e\\u003c\\u002fextra\\u003e\",\"legendgroup\":\"made\",\"marker\":{\"color\":\"#ab63fa\",\"symbol\":\"circle\"},\"mode\":\"markers\",\"name\":\"made\",\"scene\":\"scene\",\"showlegend\":true,\"x\":[0.06141266971826553],\"y\":[0.33883383870124817],\"z\":[0.37496301531791687],\"type\":\"scatter3d\"},{\"hovertemplate\":\"color=now\\u003cbr\\u003e0=%{x}\\u003cbr\\u003e1=%{y}\\u003cbr\\u003e2=%{z}\\u003cextra\\u003e\\u003c\\u002fextra\\u003e\",\"legendgroup\":\"now\",\"marker\":{\"color\":\"#FFA15A\",\"symbol\":\"circle\"},\"mode\":\"markers\",\"name\":\"now\",\"scene\":\"scene\",\"showlegend\":true,\"x\":[0.3590967357158661],\"y\":[0.6703765392303467],\"z\":[0.17221060395240784],\"type\":\"scatter3d\"},{\"hovertemplate\":\"color=eyes\\u003cbr\\u003e0=%{x}\\u003cbr\\u003e1=%{y}\\u003cbr\\u003e2=%{z}\\u003cextra\\u003e\\u003c\\u002fextra\\u003e\",\"legendgroup\":\"eyes\",\"marker\":{\"color\":\"#19d3f3\",\"symbol\":\"circle\"},\"mode\":\"markers\",\"name\":\"eyes\",\"scene\":\"scene\",\"showlegend\":true,\"x\":[-0.1433877944946289],\"y\":[0.4819568395614624],\"z\":[0.3763015568256378],\"type\":\"scatter3d\"},{\"hovertemplate\":\"color=black\\u003cbr\\u003e0=%{x}\\u003cbr\\u003e1=%{y}\\u003cbr\\u003e2=%{z}\\u003cextra\\u003e\\u003c\\u002fextra\\u003e\",\"legendgroup\":\"black\",\"marker\":{\"color\":\"#FF6692\",\"symbol\":\"circle\"},\"mode\":\"markers\",\"name\":\"black\",\"scene\":\"scene\",\"showlegend\":true,\"x\":[-0.3800913989543915],\"y\":[0.37078550457954407],\"z\":[-0.01915903575718403],\"type\":\"scatter3d\"},{\"hovertemplate\":\"color=told\\u003cbr\\u003e0=%{x}\\u003cbr\\u003e1=%{y}\\u003cbr\\u003e2=%{z}\\u003cextra\\u003e\\u003c\\u002fextra\\u003e\",\"legendgroup\":\"told\",\"marker\":{\"color\":\"#B6E880\",\"symbol\":\"circle\"},\"mode\":\"markers\",\"name\":\"told\",\"scene\":\"scene\",\"showlegend\":true,\"x\":[0.48117855191230774],\"y\":[0.5381706357002258],\"z\":[0.4636235535144806],\"type\":\"scatter3d\"},{\"hovertemplate\":\"color=lady\\u003cbr\\u003e0=%{x}\\u003cbr\\u003e1=%{y}\\u003cbr\\u003e2=%{z}\\u003cextra\\u003e\\u003c\\u002fextra\\u003e\",\"legendgroup\":\"lady\",\"marker\":{\"color\":\"#FF97FF\",\"symbol\":\"circle\"},\"mode\":\"markers\",\"name\":\"lady\",\"scene\":\"scene\",\"showlegend\":true,\"x\":[0.5244694352149963],\"y\":[0.37401118874549866],\"z\":[0.19418716430664062],\"type\":\"scatter3d\"},{\"hovertemplate\":\"color=thought\\u003cbr\\u003e0=%{x}\\u003cbr\\u003e1=%{y}\\u003cbr\\u003e2=%{z}\\u003cextra\\u003e\\u003c\\u002fextra\\u003e\",\"legendgroup\":\"thought\",\"marker\":{\"color\":\"#FECB52\",\"symbol\":\"circle\"},\"mode\":\"markers\",\"name\":\"thought\",\"scene\":\"scene\",\"showlegend\":true,\"x\":[0.3853580057621002],\"y\":[0.5358315706253052],\"z\":[0.4947918951511383],\"type\":\"scatter3d\"},{\"hovertemplate\":\"color=time\\u003cbr\\u003e0=%{x}\\u003cbr\\u003e1=%{y}\\u003cbr\\u003e2=%{z}\\u003cextra\\u003e\\u003c\\u002fextra\\u003e\",\"legendgroup\":\"time\",\"marker\":{\"color\":\"#636efa\",\"symbol\":\"circle\"},\"mode\":\"markers\",\"name\":\"time\",\"scene\":\"scene\",\"showlegend\":true,\"x\":[0.09595146775245667],\"y\":[0.7055412530899048],\"z\":[0.3189564049243927],\"type\":\"scatter3d\"},{\"hovertemplate\":\"color=then\\u003cbr\\u003e0=%{x}\\u003cbr\\u003e1=%{y}\\u003cbr\\u003e2=%{z}\\u003cextra\\u003e\\u003c\\u002fextra\\u003e\",\"legendgroup\":\"then\",\"marker\":{\"color\":\"#EF553B\",\"symbol\":\"circle\"},\"mode\":\"markers\",\"name\":\"then\",\"scene\":\"scene\",\"showlegend\":true,\"x\":[-0.07106997817754745],\"y\":[0.5452656745910645],\"z\":[0.46186044812202454],\"type\":\"scatter3d\"},{\"hovertemplate\":\"color=how\\u003cbr\\u003e0=%{x}\\u003cbr\\u003e1=%{y}\\u003cbr\\u003e2=%{z}\\u003cextra\\u003e\\u003c\\u002fextra\\u003e\",\"legendgroup\":\"how\",\"marker\":{\"color\":\"#00cc96\",\"symbol\":\"circle\"},\"mode\":\"markers\",\"name\":\"how\",\"scene\":\"scene\",\"showlegend\":true,\"x\":[0.4018423855304718],\"y\":[0.5481339693069458],\"z\":[0.21126265823841095],\"type\":\"scatter3d\"},{\"hovertemplate\":\"color=long\\u003cbr\\u003e0=%{x}\\u003cbr\\u003e1=%{y}\\u003cbr\\u003e2=%{z}\\u003cextra\\u003e\\u003c\\u002fextra\\u003e\",\"legendgroup\":\"long\",\"marker\":{\"color\":\"#ab63fa\",\"symbol\":\"circle\"},\"mode\":\"markers\",\"name\":\"long\",\"scene\":\"scene\",\"showlegend\":true,\"x\":[-0.14596770703792572],\"y\":[0.5295097231864929],\"z\":[0.1008375957608223],\"type\":\"scatter3d\"},{\"hovertemplate\":\"color=has\\u003cbr\\u003e0=%{x}\\u003cbr\\u003e1=%{y}\\u003cbr\\u003e2=%{z}\\u003cextra\\u003e\\u003c\\u002fextra\\u003e\",\"legendgroup\":\"has\",\"marker\":{\"color\":\"#FFA15A\",\"symbol\":\"circle\"},\"mode\":\"markers\",\"name\":\"has\",\"scene\":\"scene\",\"showlegend\":true,\"x\":[0.5337733030319214],\"y\":[0.477592408657074],\"z\":[0.07208568602800369],\"type\":\"scatter3d\"},{\"hovertemplate\":\"color=can\\u003cbr\\u003e0=%{x}\\u003cbr\\u003e1=%{y}\\u003cbr\\u003e2=%{z}\\u003cextra\\u003e\\u003c\\u002fextra\\u003e\",\"legendgroup\":\"can\",\"marker\":{\"color\":\"#19d3f3\",\"symbol\":\"circle\"},\"mode\":\"markers\",\"name\":\"can\",\"scene\":\"scene\",\"showlegend\":true,\"x\":[0.4120257496833801],\"y\":[0.4789793789386749],\"z\":[0.15715333819389343],\"type\":\"scatter3d\"},{\"hovertemplate\":\"color=might\\u003cbr\\u003e0=%{x}\\u003cbr\\u003e1=%{y}\\u003cbr\\u003e2=%{z}\\u003cextra\\u003e\\u003c\\u002fextra\\u003e\",\"legendgroup\":\"might\",\"marker\":{\"color\":\"#FF6692\",\"symbol\":\"circle\"},\"mode\":\"markers\",\"name\":\"might\",\"scene\":\"scene\",\"showlegend\":true,\"x\":[0.43848901987075806],\"y\":[0.4715753495693207],\"z\":[0.1949951946735382],\"type\":\"scatter3d\"},{\"hovertemplate\":\"color=us\\u003cbr\\u003e0=%{x}\\u003cbr\\u003e1=%{y}\\u003cbr\\u003e2=%{z}\\u003cextra\\u003e\\u003c\\u002fextra\\u003e\",\"legendgroup\":\"us\",\"marker\":{\"color\":\"#B6E880\",\"symbol\":\"circle\"},\"mode\":\"markers\",\"name\":\"us\",\"scene\":\"scene\",\"showlegend\":true,\"x\":[0.44456222653388977],\"y\":[0.7320470809936523],\"z\":[-0.10094404220581055],\"type\":\"scatter3d\"},{\"hovertemplate\":\"color=come\\u003cbr\\u003e0=%{x}\\u003cbr\\u003e1=%{y}\\u003cbr\\u003e2=%{z}\\u003cextra\\u003e\\u003c\\u002fextra\\u003e\",\"legendgroup\":\"come\",\"marker\":{\"color\":\"#FF97FF\",\"symbol\":\"circle\"},\"mode\":\"markers\",\"name\":\"come\",\"scene\":\"scene\",\"showlegend\":true,\"x\":[0.3600943088531494],\"y\":[0.7659010291099548],\"z\":[0.21158422529697418],\"type\":\"scatter3d\"},{\"hovertemplate\":\"color=where\\u003cbr\\u003e0=%{x}\\u003cbr\\u003e1=%{y}\\u003cbr\\u003e2=%{z}\\u003cextra\\u003e\\u003c\\u002fextra\\u003e\",\"legendgroup\":\"where\",\"marker\":{\"color\":\"#FECB52\",\"symbol\":\"circle\"},\"mode\":\"markers\",\"name\":\"where\",\"scene\":\"scene\",\"showlegend\":true,\"x\":[-0.14148636162281036],\"y\":[0.6202092170715332],\"z\":[0.06708768010139465],\"type\":\"scatter3d\"}],                        {\"template\":{\"data\":{\"histogram2dcontour\":[{\"type\":\"histogram2dcontour\",\"colorbar\":{\"outlinewidth\":0,\"ticks\":\"\"},\"colorscale\":[[0.0,\"#0d0887\"],[0.1111111111111111,\"#46039f\"],[0.2222222222222222,\"#7201a8\"],[0.3333333333333333,\"#9c179e\"],[0.4444444444444444,\"#bd3786\"],[0.5555555555555556,\"#d8576b\"],[0.6666666666666666,\"#ed7953\"],[0.7777777777777778,\"#fb9f3a\"],[0.8888888888888888,\"#fdca26\"],[1.0,\"#f0f921\"]]}],\"choropleth\":[{\"type\":\"choropleth\",\"colorbar\":{\"outlinewidth\":0,\"ticks\":\"\"}}],\"histogram2d\":[{\"type\":\"histogram2d\",\"colorbar\":{\"outlinewidth\":0,\"ticks\":\"\"},\"colorscale\":[[0.0,\"#0d0887\"],[0.1111111111111111,\"#46039f\"],[0.2222222222222222,\"#7201a8\"],[0.3333333333333333,\"#9c179e\"],[0.4444444444444444,\"#bd3786\"],[0.5555555555555556,\"#d8576b\"],[0.6666666666666666,\"#ed7953\"],[0.7777777777777778,\"#fb9f3a\"],[0.8888888888888888,\"#fdca26\"],[1.0,\"#f0f921\"]]}],\"heatmap\":[{\"type\":\"heatmap\",\"colorbar\":{\"outlinewidth\":0,\"ticks\":\"\"},\"colorscale\":[[0.0,\"#0d0887\"],[0.1111111111111111,\"#46039f\"],[0.2222222222222222,\"#7201a8\"],[0.3333333333333333,\"#9c179e\"],[0.4444444444444444,\"#bd3786\"],[0.5555555555555556,\"#d8576b\"],[0.6666666666666666,\"#ed7953\"],[0.7777777777777778,\"#fb9f3a\"],[0.8888888888888888,\"#fdca26\"],[1.0,\"#f0f921\"]]}],\"heatmapgl\":[{\"type\":\"heatmapgl\",\"colorbar\":{\"outlinewidth\":0,\"ticks\":\"\"},\"colorscale\":[[0.0,\"#0d0887\"],[0.1111111111111111,\"#46039f\"],[0.2222222222222222,\"#7201a8\"],[0.3333333333333333,\"#9c179e\"],[0.4444444444444444,\"#bd3786\"],[0.5555555555555556,\"#d8576b\"],[0.6666666666666666,\"#ed7953\"],[0.7777777777777778,\"#fb9f3a\"],[0.8888888888888888,\"#fdca26\"],[1.0,\"#f0f921\"]]}],\"contourcarpet\":[{\"type\":\"contourcarpet\",\"colorbar\":{\"outlinewidth\":0,\"ticks\":\"\"}}],\"contour\":[{\"type\":\"contour\",\"colorbar\":{\"outlinewidth\":0,\"ticks\":\"\"},\"colorscale\":[[0.0,\"#0d0887\"],[0.1111111111111111,\"#46039f\"],[0.2222222222222222,\"#7201a8\"],[0.3333333333333333,\"#9c179e\"],[0.4444444444444444,\"#bd3786\"],[0.5555555555555556,\"#d8576b\"],[0.6666666666666666,\"#ed7953\"],[0.7777777777777778,\"#fb9f3a\"],[0.8888888888888888,\"#fdca26\"],[1.0,\"#f0f921\"]]}],\"surface\":[{\"type\":\"surface\",\"colorbar\":{\"outlinewidth\":0,\"ticks\":\"\"},\"colorscale\":[[0.0,\"#0d0887\"],[0.1111111111111111,\"#46039f\"],[0.2222222222222222,\"#7201a8\"],[0.3333333333333333,\"#9c179e\"],[0.4444444444444444,\"#bd3786\"],[0.5555555555555556,\"#d8576b\"],[0.6666666666666666,\"#ed7953\"],[0.7777777777777778,\"#fb9f3a\"],[0.8888888888888888,\"#fdca26\"],[1.0,\"#f0f921\"]]}],\"mesh3d\":[{\"type\":\"mesh3d\",\"colorbar\":{\"outlinewidth\":0,\"ticks\":\"\"}}],\"scatter\":[{\"fillpattern\":{\"fillmode\":\"overlay\",\"size\":10,\"solidity\":0.2},\"type\":\"scatter\"}],\"parcoords\":[{\"type\":\"parcoords\",\"line\":{\"colorbar\":{\"outlinewidth\":0,\"ticks\":\"\"}}}],\"scatterpolargl\":[{\"type\":\"scatterpolargl\",\"marker\":{\"colorbar\":{\"outlinewidth\":0,\"ticks\":\"\"}}}],\"bar\":[{\"error_x\":{\"color\":\"#2a3f5f\"},\"error_y\":{\"color\":\"#2a3f5f\"},\"marker\":{\"line\":{\"color\":\"#E5ECF6\",\"width\":0.5},\"pattern\":{\"fillmode\":\"overlay\",\"size\":10,\"solidity\":0.2}},\"type\":\"bar\"}],\"scattergeo\":[{\"type\":\"scattergeo\",\"marker\":{\"colorbar\":{\"outlinewidth\":0,\"ticks\":\"\"}}}],\"scatterpolar\":[{\"type\":\"scatterpolar\",\"marker\":{\"colorbar\":{\"outlinewidth\":0,\"ticks\":\"\"}}}],\"histogram\":[{\"marker\":{\"pattern\":{\"fillmode\":\"overlay\",\"size\":10,\"solidity\":0.2}},\"type\":\"histogram\"}],\"scattergl\":[{\"type\":\"scattergl\",\"marker\":{\"colorbar\":{\"outlinewidth\":0,\"ticks\":\"\"}}}],\"scatter3d\":[{\"type\":\"scatter3d\",\"line\":{\"colorbar\":{\"outlinewidth\":0,\"ticks\":\"\"}},\"marker\":{\"colorbar\":{\"outlinewidth\":0,\"ticks\":\"\"}}}],\"scattermapbox\":[{\"type\":\"scattermapbox\",\"marker\":{\"colorbar\":{\"outlinewidth\":0,\"ticks\":\"\"}}}],\"scatterternary\":[{\"type\":\"scatterternary\",\"marker\":{\"colorbar\":{\"outlinewidth\":0,\"ticks\":\"\"}}}],\"scattercarpet\":[{\"type\":\"scattercarpet\",\"marker\":{\"colorbar\":{\"outlinewidth\":0,\"ticks\":\"\"}}}],\"carpet\":[{\"aaxis\":{\"endlinecolor\":\"#2a3f5f\",\"gridcolor\":\"white\",\"linecolor\":\"white\",\"minorgridcolor\":\"white\",\"startlinecolor\":\"#2a3f5f\"},\"baxis\":{\"endlinecolor\":\"#2a3f5f\",\"gridcolor\":\"white\",\"linecolor\":\"white\",\"minorgridcolor\":\"white\",\"startlinecolor\":\"#2a3f5f\"},\"type\":\"carpet\"}],\"table\":[{\"cells\":{\"fill\":{\"color\":\"#EBF0F8\"},\"line\":{\"color\":\"white\"}},\"header\":{\"fill\":{\"color\":\"#C8D4E3\"},\"line\":{\"color\":\"white\"}},\"type\":\"table\"}],\"barpolar\":[{\"marker\":{\"line\":{\"color\":\"#E5ECF6\",\"width\":0.5},\"pattern\":{\"fillmode\":\"overlay\",\"size\":10,\"solidity\":0.2}},\"type\":\"barpolar\"}],\"pie\":[{\"automargin\":true,\"type\":\"pie\"}]},\"layout\":{\"autotypenumbers\":\"strict\",\"colorway\":[\"#636efa\",\"#EF553B\",\"#00cc96\",\"#ab63fa\",\"#FFA15A\",\"#19d3f3\",\"#FF6692\",\"#B6E880\",\"#FF97FF\",\"#FECB52\"],\"font\":{\"color\":\"#2a3f5f\"},\"hovermode\":\"closest\",\"hoverlabel\":{\"align\":\"left\"},\"paper_bgcolor\":\"white\",\"plot_bgcolor\":\"#E5ECF6\",\"polar\":{\"bgcolor\":\"#E5ECF6\",\"angularaxis\":{\"gridcolor\":\"white\",\"linecolor\":\"white\",\"ticks\":\"\"},\"radialaxis\":{\"gridcolor\":\"white\",\"linecolor\":\"white\",\"ticks\":\"\"}},\"ternary\":{\"bgcolor\":\"#E5ECF6\",\"aaxis\":{\"gridcolor\":\"white\",\"linecolor\":\"white\",\"ticks\":\"\"},\"baxis\":{\"gridcolor\":\"white\",\"linecolor\":\"white\",\"ticks\":\"\"},\"caxis\":{\"gridcolor\":\"white\",\"linecolor\":\"white\",\"ticks\":\"\"}},\"coloraxis\":{\"colorbar\":{\"outlinewidth\":0,\"ticks\":\"\"}},\"colorscale\":{\"sequential\":[[0.0,\"#0d0887\"],[0.1111111111111111,\"#46039f\"],[0.2222222222222222,\"#7201a8\"],[0.3333333333333333,\"#9c179e\"],[0.4444444444444444,\"#bd3786\"],[0.5555555555555556,\"#d8576b\"],[0.6666666666666666,\"#ed7953\"],[0.7777777777777778,\"#fb9f3a\"],[0.8888888888888888,\"#fdca26\"],[1.0,\"#f0f921\"]],\"sequentialminus\":[[0.0,\"#0d0887\"],[0.1111111111111111,\"#46039f\"],[0.2222222222222222,\"#7201a8\"],[0.3333333333333333,\"#9c179e\"],[0.4444444444444444,\"#bd3786\"],[0.5555555555555556,\"#d8576b\"],[0.6666666666666666,\"#ed7953\"],[0.7777777777777778,\"#fb9f3a\"],[0.8888888888888888,\"#fdca26\"],[1.0,\"#f0f921\"]],\"diverging\":[[0,\"#8e0152\"],[0.1,\"#c51b7d\"],[0.2,\"#de77ae\"],[0.3,\"#f1b6da\"],[0.4,\"#fde0ef\"],[0.5,\"#f7f7f7\"],[0.6,\"#e6f5d0\"],[0.7,\"#b8e186\"],[0.8,\"#7fbc41\"],[0.9,\"#4d9221\"],[1,\"#276419\"]]},\"xaxis\":{\"gridcolor\":\"white\",\"linecolor\":\"white\",\"ticks\":\"\",\"title\":{\"standoff\":15},\"zerolinecolor\":\"white\",\"automargin\":true,\"zerolinewidth\":2},\"yaxis\":{\"gridcolor\":\"white\",\"linecolor\":\"white\",\"ticks\":\"\",\"title\":{\"standoff\":15},\"zerolinecolor\":\"white\",\"automargin\":true,\"zerolinewidth\":2},\"scene\":{\"xaxis\":{\"backgroundcolor\":\"#E5ECF6\",\"gridcolor\":\"white\",\"linecolor\":\"white\",\"showbackground\":true,\"ticks\":\"\",\"zerolinecolor\":\"white\",\"gridwidth\":2},\"yaxis\":{\"backgroundcolor\":\"#E5ECF6\",\"gridcolor\":\"white\",\"linecolor\":\"white\",\"showbackground\":true,\"ticks\":\"\",\"zerolinecolor\":\"white\",\"gridwidth\":2},\"zaxis\":{\"backgroundcolor\":\"#E5ECF6\",\"gridcolor\":\"white\",\"linecolor\":\"white\",\"showbackground\":true,\"ticks\":\"\",\"zerolinecolor\":\"white\",\"gridwidth\":2}},\"shapedefaults\":{\"line\":{\"color\":\"#2a3f5f\"}},\"annotationdefaults\":{\"arrowcolor\":\"#2a3f5f\",\"arrowhead\":0,\"arrowwidth\":1},\"geo\":{\"bgcolor\":\"white\",\"landcolor\":\"#E5ECF6\",\"subunitcolor\":\"white\",\"showland\":true,\"showlakes\":true,\"lakecolor\":\"white\"},\"title\":{\"x\":0.05},\"mapbox\":{\"style\":\"light\"}}},\"scene\":{\"domain\":{\"x\":[0.0,1.0],\"y\":[0.0,1.0]},\"xaxis\":{\"title\":{\"text\":\"0\"}},\"yaxis\":{\"title\":{\"text\":\"1\"}},\"zaxis\":{\"title\":{\"text\":\"2\"}}},\"legend\":{\"title\":{\"text\":\"color\"},\"tracegroupgap\":0},\"margin\":{\"t\":60}},                        {\"responsive\": true}                    ).then(function(){\n",
              "                            \n",
              "var gd = document.getElementById('b81334e7-f5cb-412a-9386-564f46755b26');\n",
              "var x = new MutationObserver(function (mutations, observer) {{\n",
              "        var display = window.getComputedStyle(gd).display;\n",
              "        if (!display || display === 'none') {{\n",
              "            console.log([gd, 'removed!']);\n",
              "            Plotly.purge(gd);\n",
              "            observer.disconnect();\n",
              "        }}\n",
              "}});\n",
              "\n",
              "// Listen for the removal of the full notebook cells\n",
              "var notebookContainer = gd.closest('#notebook-container');\n",
              "if (notebookContainer) {{\n",
              "    x.observe(notebookContainer, {childList: true});\n",
              "}}\n",
              "\n",
              "// Listen for the clearing of the current output cell\n",
              "var outputEl = gd.closest('.output');\n",
              "if (outputEl) {{\n",
              "    x.observe(outputEl, {childList: true});\n",
              "}}\n",
              "\n",
              "                        })                };                            </script>        </div>\n",
              "</body>\n",
              "</html>"
            ]
          },
          "metadata": {}
        }
      ]
    },
    {
      "cell_type": "code",
      "source": [],
      "metadata": {
        "id": "V0BUDtlCJaCV"
      },
      "execution_count": 39,
      "outputs": []
    }
  ]
}